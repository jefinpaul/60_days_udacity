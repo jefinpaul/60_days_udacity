{
  "nbformat": 4,
  "nbformat_minor": 0,
  "metadata": {
    "colab": {
      "name": "Day 19.ipynb",
      "provenance": []
    },
    "kernelspec": {
      "name": "python3",
      "display_name": "Python 3"
    },
    "accelerator": "GPU"
  },
  "cells": [
    {
      "cell_type": "code",
      "metadata": {
        "id": "9-hX7d9GsEJq",
        "colab_type": "code",
        "outputId": "467963c7-fd68-4f2d-d4c9-e91b065b2fea",
        "colab": {
          "base_uri": "https://localhost:8080/",
          "height": 222
        }
      },
      "source": [
        "!wget https://raw.githubusercontent.com/udacity/deep-learning-v2-pytorch/master/recurrent-neural-networks/char-rnn/data/anna.txt"
      ],
      "execution_count": 41,
      "outputs": [
        {
          "output_type": "stream",
          "text": [
            "--2020-01-19 17:03:27--  https://raw.githubusercontent.com/udacity/deep-learning-v2-pytorch/master/recurrent-neural-networks/char-rnn/data/anna.txt\n",
            "Resolving raw.githubusercontent.com (raw.githubusercontent.com)... 151.101.0.133, 151.101.64.133, 151.101.128.133, ...\n",
            "Connecting to raw.githubusercontent.com (raw.githubusercontent.com)|151.101.0.133|:443... connected.\n",
            "HTTP request sent, awaiting response... 200 OK\n",
            "Length: 2025486 (1.9M) [text/plain]\n",
            "Saving to: ‘anna.txt.1’\n",
            "\n",
            "\ranna.txt.1            0%[                    ]       0  --.-KB/s               \ranna.txt.1          100%[===================>]   1.93M  --.-KB/s    in 0.02s   \n",
            "\n",
            "2020-01-19 17:03:27 (122 MB/s) - ‘anna.txt.1’ saved [2025486/2025486]\n",
            "\n"
          ],
          "name": "stdout"
        }
      ]
    },
    {
      "cell_type": "code",
      "metadata": {
        "id": "sPgceUV-swnH",
        "colab_type": "code",
        "colab": {}
      },
      "source": [
        "import numpy as np\n",
        "import torch\n",
        "from torch import nn\n",
        "import torch.nn.functional as F"
      ],
      "execution_count": 0,
      "outputs": []
    },
    {
      "cell_type": "code",
      "metadata": {
        "id": "WXhN7eYKtq9u",
        "colab_type": "code",
        "colab": {}
      },
      "source": [
        "with open('anna.txt.1','r') as f:\n",
        "    text = f.read()"
      ],
      "execution_count": 0,
      "outputs": []
    },
    {
      "cell_type": "code",
      "metadata": {
        "id": "aTS8Ksf0txZQ",
        "colab_type": "code",
        "outputId": "3619a38b-2934-4987-9763-f0cea106ffbd",
        "colab": {
          "base_uri": "https://localhost:8080/",
          "height": 34
        }
      },
      "source": [
        "text[:100]"
      ],
      "execution_count": 46,
      "outputs": [
        {
          "output_type": "execute_result",
          "data": {
            "text/plain": [
              "'Chapter 1\\n\\n\\nHappy families are all alike; every unhappy family is unhappy in its own\\nway.\\n\\nEverythin'"
            ]
          },
          "metadata": {
            "tags": []
          },
          "execution_count": 46
        }
      ]
    },
    {
      "cell_type": "code",
      "metadata": {
        "id": "D6xds9V1t8YF",
        "colab_type": "code",
        "colab": {}
      },
      "source": [
        "chars = tuple(set(text))\n",
        "int2char= dict(enumerate(chars))\n",
        "char2int={ch: ii for ii, ch in int2char.items()}\n",
        "encoded=np.array([char2int[ch] for ch in text])"
      ],
      "execution_count": 0,
      "outputs": []
    },
    {
      "cell_type": "code",
      "metadata": {
        "id": "WnGJP_blt-JN",
        "colab_type": "code",
        "outputId": "34fcb37c-0cb4-4118-be15-b81c8439233a",
        "colab": {
          "base_uri": "https://localhost:8080/",
          "height": 118
        }
      },
      "source": [
        "encoded[:100]"
      ],
      "execution_count": 48,
      "outputs": [
        {
          "output_type": "execute_result",
          "data": {
            "text/plain": [
              "array([34, 82, 73, 14, 26, 63, 81,  4, 47,  5,  5,  5,  6, 73, 14, 14, 79,\n",
              "        4, 32, 73, 62, 56,  1, 56, 63,  7,  4, 73, 81, 63,  4, 73,  1,  1,\n",
              "        4, 73,  1, 56, 40, 63, 39,  4, 63, 65, 63, 81, 79,  4, 12, 13, 82,\n",
              "       73, 14, 14, 79,  4, 32, 73, 62, 56,  1, 79,  4, 56,  7,  4, 12, 13,\n",
              "       82, 73, 14, 14, 79,  4, 56, 13,  4, 56, 26,  7,  4, 75, 22, 13,  5,\n",
              "       22, 73, 79, 76,  5,  5, 42, 65, 63, 81, 79, 26, 82, 56, 13])"
            ]
          },
          "metadata": {
            "tags": []
          },
          "execution_count": 48
        }
      ]
    },
    {
      "cell_type": "code",
      "metadata": {
        "id": "64lKyIz7t_iV",
        "colab_type": "code",
        "colab": {}
      },
      "source": [
        "#Turn into one hot encode\n",
        "def one_hot_encode(arr, n_labels):\n",
        "    one_hot = np.zeros((arr.size, n_labels), dtype=np.float32)\n",
        "    one_hot[np.arange(one_hot.shape[0]), arr.flatten()] = 1.\n",
        "    one_hot = one_hot.reshape((*arr.shape, n_labels))\n",
        "    return one_hot"
      ],
      "execution_count": 0,
      "outputs": []
    },
    {
      "cell_type": "code",
      "metadata": {
        "id": "SBI4NC2kuCt9",
        "colab_type": "code",
        "outputId": "ce869e58-d9be-4c0e-dc6b-3c4d7cc9d905",
        "colab": {
          "base_uri": "https://localhost:8080/",
          "height": 67
        }
      },
      "source": [
        "test_seq = np.array([[3, 5, 1]])\n",
        "one_hot = one_hot_encode(test_seq, 8)\n",
        "\n",
        "print(one_hot)"
      ],
      "execution_count": 50,
      "outputs": [
        {
          "output_type": "stream",
          "text": [
            "[[[0. 0. 0. 1. 0. 0. 0. 0.]\n",
            "  [0. 0. 0. 0. 0. 1. 0. 0.]\n",
            "  [0. 1. 0. 0. 0. 0. 0. 0.]]]\n"
          ],
          "name": "stdout"
        }
      ]
    },
    {
      "cell_type": "code",
      "metadata": {
        "id": "xLVNhNfVuExt",
        "colab_type": "code",
        "colab": {}
      },
      "source": [
        "def get_batches(arr, batch_size, seq_length):\n",
        "    batch_size_total = batch_size * seq_length\n",
        "    n_batches = len(arr)//batch_size_total\n",
        "    arr = arr[:n_batches * batch_size_total]\n",
        "    arr = arr.reshape((batch_size, -1))\n",
        "    \n",
        "   \n",
        "    for n in range(0, arr.shape[1], seq_length):\n",
        "        # The features\n",
        "        x = arr[:, n:n+seq_length]\n",
        "        # The targets, shifted by one\n",
        "        y =  np.zeros_like(x)\n",
        "        try:\n",
        "            y[:, :-1], y[:, -1] = x[:, 1:], arr[:, n+seq_length]\n",
        "        except IndexError:\n",
        "            y[:, :-1], y[:, -1] = x[:, 1:], arr[:, 0]\n",
        "        yield x, y"
      ],
      "execution_count": 0,
      "outputs": []
    },
    {
      "cell_type": "code",
      "metadata": {
        "id": "n71ptIZRuGHF",
        "colab_type": "code",
        "colab": {}
      },
      "source": [
        "batches = get_batches(encoded, 8, 50)\n",
        "x, y = next(batches)"
      ],
      "execution_count": 0,
      "outputs": []
    },
    {
      "cell_type": "code",
      "metadata": {
        "id": "rLRa-zxnuIbU",
        "colab_type": "code",
        "outputId": "48f63b76-df65-4a5e-bc5d-793d18077bbf",
        "colab": {
          "base_uri": "https://localhost:8080/",
          "height": 336
        }
      },
      "source": [
        "print('x\\n', x[:10, :10])\n",
        "print('\\ny\\n', y[:10, :10])"
      ],
      "execution_count": 53,
      "outputs": [
        {
          "output_type": "stream",
          "text": [
            "x\n",
            " [[34 82 73 14 26 63 81  4 47  5]\n",
            " [ 7 75 13  4 26 82 73 26  4 73]\n",
            " [63 13 31  4 75 81  4 73  4 32]\n",
            " [ 7  4 26 82 63  4 16 82 56 63]\n",
            " [ 4  7 73 22  4 82 63 81  4 26]\n",
            " [16 12  7  7 56 75 13  4 73 13]\n",
            " [ 4 44 13 13 73  4 82 73 31  4]\n",
            " [71 23  1 75 13  7 40 79 76  4]]\n",
            "\n",
            "y\n",
            " [[82 73 14 26 63 81  4 47  5  5]\n",
            " [75 13  4 26 82 73 26  4 73 26]\n",
            " [13 31  4 75 81  4 73  4 32 75]\n",
            " [ 4 26 82 63  4 16 82 56 63 32]\n",
            " [ 7 73 22  4 82 63 81  4 26 63]\n",
            " [12  7  7 56 75 13  4 73 13 31]\n",
            " [44 13 13 73  4 82 73 31  4  7]\n",
            " [23  1 75 13  7 40 79 76  4 28]]\n"
          ],
          "name": "stdout"
        }
      ]
    },
    {
      "cell_type": "code",
      "metadata": {
        "id": "KvjtiOKRuJq1",
        "colab_type": "code",
        "outputId": "ce169e7c-3672-4475-f371-8284b86d1ed4",
        "colab": {
          "base_uri": "https://localhost:8080/",
          "height": 34
        }
      },
      "source": [
        "train_on_gpu = torch.cuda.is_available()\n",
        "if(train_on_gpu):\n",
        "    print('Training on GPU!')\n",
        "else: \n",
        "    print('No GPU available, training on CPU; consider making n_epochs very small.')"
      ],
      "execution_count": 54,
      "outputs": [
        {
          "output_type": "stream",
          "text": [
            "Training on GPU!\n"
          ],
          "name": "stdout"
        }
      ]
    },
    {
      "cell_type": "code",
      "metadata": {
        "id": "j2CPk75CuLQG",
        "colab_type": "code",
        "colab": {}
      },
      "source": [
        "class CharRNN(nn.Module):\n",
        "    \n",
        "    def __init__(self, tokens, n_hidden=256, n_layers=2,\n",
        "                               drop_prob=0.5, lr=0.001):\n",
        "        super().__init__()\n",
        "        self.drop_prob = drop_prob\n",
        "        self.n_layers = n_layers\n",
        "        self.n_hidden = n_hidden\n",
        "        self.lr = lr\n",
        "        \n",
        "        self.chars = tokens\n",
        "        self.int2char = dict(enumerate(self.chars))\n",
        "        self.char2int = {ch: ii for ii, ch in self.int2char.items()}\n",
        "        \n",
        "        self.lstm = nn.LSTM(len(self.chars), n_hidden, n_layers, \n",
        "                            dropout=drop_prob, batch_first=True)\n",
        "              \n",
        "        self.dropout = nn.Dropout(drop_prob)\n",
        "        \n",
        "        self.fc = nn.Linear(n_hidden, len(self.chars))\n",
        "      \n",
        "    \n",
        "    def forward(self, x, hidden):\n",
        "   \n",
        "        r_output, hidden = self.lstm(x, hidden)\n",
        "       \n",
        "        out = self.dropout(r_output)\n",
        "        \n",
        "        out = out.contiguous().view(-1, self.n_hidden)\n",
        "        \n",
        "        out = self.fc(out)\n",
        "        \n",
        "        return out, hidden\n",
        "    \n",
        "    \n",
        "    def init_hidden(self, batch_size):\n",
        "        \n",
        "        weight = next(self.parameters()).data\n",
        "        \n",
        "        if (train_on_gpu):\n",
        "            hidden = (weight.new(self.n_layers, batch_size, self.n_hidden).zero_().cuda(),\n",
        "                  weight.new(self.n_layers, batch_size, self.n_hidden).zero_().cuda())\n",
        "        else:\n",
        "            hidden = (weight.new(self.n_layers, batch_size, self.n_hidden).zero_(),\n",
        "                      weight.new(self.n_layers, batch_size, self.n_hidden).zero_())\n",
        "        \n",
        "        return hidden"
      ],
      "execution_count": 0,
      "outputs": []
    },
    {
      "cell_type": "code",
      "metadata": {
        "id": "-iqeHI3euQZ9",
        "colab_type": "code",
        "colab": {}
      },
      "source": [
        "def train(net, data, epochs=10, batch_size=10, seq_length=50, lr=0.001, clip=5, val_frac=0.1, print_every=10):\n",
        "   \n",
        "    net.train()\n",
        "    \n",
        "    opt = torch.optim.Adam(net.parameters(), lr=lr)\n",
        "    criterion = nn.CrossEntropyLoss()\n",
        "        \n",
        "    val_idx = int(len(data)*(1-val_frac))\n",
        "    data, val_data = data[:val_idx], data[val_idx:]\n",
        "    \n",
        "    if(train_on_gpu):\n",
        "        net.cuda()\n",
        "    \n",
        "    counter = 0\n",
        "    n_chars = len(net.chars)\n",
        "    for e in range(epochs):\n",
        "       \n",
        "        h = net.init_hidden(batch_size)\n",
        "        \n",
        "        for x, y in get_batches(data, batch_size, seq_length):\n",
        "            counter += 1\n",
        "                        \n",
        "            x = one_hot_encode(x, n_chars)\n",
        "            inputs, targets = torch.from_numpy(x), torch.from_numpy(y)\n",
        "            \n",
        "            if(train_on_gpu):\n",
        "                inputs, targets = inputs.cuda(), targets.cuda()\n",
        "\n",
        "            h = tuple([each.data for each in h])\n",
        "\n",
        "            net.zero_grad()\n",
        "           \n",
        "            output, h = net(inputs, h)\n",
        "            \n",
        "            loss = criterion(output, targets.view(batch_size*seq_length).long())\n",
        "            loss.backward()\n",
        "            \n",
        "            nn.utils.clip_grad_norm_(net.parameters(), clip)\n",
        "            opt.step()\n",
        "                        \n",
        "            if counter % print_every == 0:\n",
        "                \n",
        "                val_h = net.init_hidden(batch_size)\n",
        "                val_losses = []\n",
        "                net.eval()\n",
        "                for x, y in get_batches(val_data, batch_size, seq_length):\n",
        "                    x = one_hot_encode(x, n_chars)\n",
        "                    x, y = torch.from_numpy(x), torch.from_numpy(y)\n",
        "                    val_h = tuple([each.data for each in val_h])\n",
        "                    \n",
        "                    inputs, targets = x, y\n",
        "                    if(train_on_gpu):\n",
        "                        inputs, targets = inputs.cuda(), targets.cuda()\n",
        "\n",
        "                    output, val_h = net(inputs, val_h)\n",
        "                    val_loss = criterion(output, targets.view(batch_size*seq_length).long())\n",
        "                \n",
        "                    val_losses.append(val_loss.item())\n",
        "                \n",
        "                net.train() \n",
        "                print(\"Epoch: {}/{}...\".format(e+1, epochs),\n",
        "                      \"Step: {}...\".format(counter),\n",
        "                      \"Loss: {:.4f}...\".format(loss.item()),\n",
        "                      \"Val Loss: {:.4f}\".format(np.mean(val_losses)))"
      ],
      "execution_count": 0,
      "outputs": []
    },
    {
      "cell_type": "code",
      "metadata": {
        "id": "B5OZrhLVuTl8",
        "colab_type": "code",
        "outputId": "af55b292-9f42-45d6-ea17-3cd7bdb98f82",
        "colab": {
          "base_uri": "https://localhost:8080/",
          "height": 101
        }
      },
      "source": [
        "n_hidden=512\n",
        "n_layers=2\n",
        "\n",
        "net = CharRNN(chars, n_hidden, n_layers)\n",
        "print(net)"
      ],
      "execution_count": 57,
      "outputs": [
        {
          "output_type": "stream",
          "text": [
            "CharRNN(\n",
            "  (lstm): LSTM(83, 512, num_layers=2, batch_first=True, dropout=0.5)\n",
            "  (dropout): Dropout(p=0.5, inplace=False)\n",
            "  (fc): Linear(in_features=512, out_features=83, bias=True)\n",
            ")\n"
          ],
          "name": "stdout"
        }
      ]
    },
    {
      "cell_type": "code",
      "metadata": {
        "id": "rV8b3-O5uU6c",
        "colab_type": "code",
        "outputId": "a296042e-089b-4821-bbf1-25b1e8b2ffcc",
        "colab": {
          "base_uri": "https://localhost:8080/",
          "height": 1000
        }
      },
      "source": [
        "batch_size = 128\n",
        "seq_length = 100\n",
        "n_epochs = 20 \n",
        "train(net, encoded, epochs=n_epochs, batch_size=batch_size, seq_length=seq_length, lr=0.001, print_every=10)"
      ],
      "execution_count": 58,
      "outputs": [
        {
          "output_type": "stream",
          "text": [
            "Epoch: 1/20... Step: 10... Loss: 3.2602... Val Loss: 3.2115\n",
            "Epoch: 1/20... Step: 20... Loss: 3.1509... Val Loss: 3.1409\n",
            "Epoch: 1/20... Step: 30... Loss: 3.1417... Val Loss: 3.1242\n",
            "Epoch: 1/20... Step: 40... Loss: 3.1152... Val Loss: 3.1193\n",
            "Epoch: 1/20... Step: 50... Loss: 3.1411... Val Loss: 3.1166\n",
            "Epoch: 1/20... Step: 60... Loss: 3.1194... Val Loss: 3.1143\n",
            "Epoch: 1/20... Step: 70... Loss: 3.1034... Val Loss: 3.1106\n",
            "Epoch: 1/20... Step: 80... Loss: 3.1127... Val Loss: 3.1011\n",
            "Epoch: 1/20... Step: 90... Loss: 3.0968... Val Loss: 3.0775\n",
            "Epoch: 1/20... Step: 100... Loss: 3.0338... Val Loss: 3.0239\n",
            "Epoch: 1/20... Step: 110... Loss: 2.9553... Val Loss: 2.9243\n",
            "Epoch: 1/20... Step: 120... Loss: 2.8784... Val Loss: 2.8071\n",
            "Epoch: 1/20... Step: 130... Loss: 2.7245... Val Loss: 2.6869\n",
            "Epoch: 2/20... Step: 140... Loss: 2.6369... Val Loss: 2.5737\n",
            "Epoch: 2/20... Step: 150... Loss: 2.5615... Val Loss: 2.5128\n",
            "Epoch: 2/20... Step: 160... Loss: 2.5022... Val Loss: 2.4606\n",
            "Epoch: 2/20... Step: 170... Loss: 2.4459... Val Loss: 2.4282\n",
            "Epoch: 2/20... Step: 180... Loss: 2.4173... Val Loss: 2.3978\n",
            "Epoch: 2/20... Step: 190... Loss: 2.3638... Val Loss: 2.3639\n",
            "Epoch: 2/20... Step: 200... Loss: 2.3700... Val Loss: 2.3428\n",
            "Epoch: 2/20... Step: 210... Loss: 2.3257... Val Loss: 2.3053\n",
            "Epoch: 2/20... Step: 220... Loss: 2.2869... Val Loss: 2.2744\n",
            "Epoch: 2/20... Step: 230... Loss: 2.2834... Val Loss: 2.2464\n",
            "Epoch: 2/20... Step: 240... Loss: 2.2494... Val Loss: 2.2226\n",
            "Epoch: 2/20... Step: 250... Loss: 2.1930... Val Loss: 2.1988\n",
            "Epoch: 2/20... Step: 260... Loss: 2.1663... Val Loss: 2.1682\n",
            "Epoch: 2/20... Step: 270... Loss: 2.1739... Val Loss: 2.1457\n",
            "Epoch: 3/20... Step: 280... Loss: 2.1741... Val Loss: 2.1249\n",
            "Epoch: 3/20... Step: 290... Loss: 2.1379... Val Loss: 2.1018\n",
            "Epoch: 3/20... Step: 300... Loss: 2.1123... Val Loss: 2.0854\n",
            "Epoch: 3/20... Step: 310... Loss: 2.0825... Val Loss: 2.0634\n",
            "Epoch: 3/20... Step: 320... Loss: 2.0514... Val Loss: 2.0433\n",
            "Epoch: 3/20... Step: 330... Loss: 2.0258... Val Loss: 2.0297\n",
            "Epoch: 3/20... Step: 340... Loss: 2.0460... Val Loss: 2.0086\n",
            "Epoch: 3/20... Step: 350... Loss: 2.0224... Val Loss: 1.9880\n",
            "Epoch: 3/20... Step: 360... Loss: 1.9526... Val Loss: 1.9736\n",
            "Epoch: 3/20... Step: 370... Loss: 1.9870... Val Loss: 1.9567\n",
            "Epoch: 3/20... Step: 380... Loss: 1.9649... Val Loss: 1.9358\n",
            "Epoch: 3/20... Step: 390... Loss: 1.9333... Val Loss: 1.9243\n",
            "Epoch: 3/20... Step: 400... Loss: 1.9117... Val Loss: 1.9135\n",
            "Epoch: 3/20... Step: 410... Loss: 1.9204... Val Loss: 1.8929\n",
            "Epoch: 4/20... Step: 420... Loss: 1.9032... Val Loss: 1.8792\n",
            "Epoch: 4/20... Step: 430... Loss: 1.9040... Val Loss: 1.8657\n",
            "Epoch: 4/20... Step: 440... Loss: 1.8743... Val Loss: 1.8547\n",
            "Epoch: 4/20... Step: 450... Loss: 1.8219... Val Loss: 1.8396\n",
            "Epoch: 4/20... Step: 460... Loss: 1.8136... Val Loss: 1.8293\n",
            "Epoch: 4/20... Step: 470... Loss: 1.8530... Val Loss: 1.8197\n",
            "Epoch: 4/20... Step: 480... Loss: 1.8289... Val Loss: 1.8049\n",
            "Epoch: 4/20... Step: 490... Loss: 1.8259... Val Loss: 1.7975\n",
            "Epoch: 4/20... Step: 500... Loss: 1.8285... Val Loss: 1.7836\n",
            "Epoch: 4/20... Step: 510... Loss: 1.7983... Val Loss: 1.7750\n",
            "Epoch: 4/20... Step: 520... Loss: 1.8094... Val Loss: 1.7608\n",
            "Epoch: 4/20... Step: 530... Loss: 1.7714... Val Loss: 1.7544\n",
            "Epoch: 4/20... Step: 540... Loss: 1.7341... Val Loss: 1.7398\n",
            "Epoch: 4/20... Step: 550... Loss: 1.7798... Val Loss: 1.7353\n",
            "Epoch: 5/20... Step: 560... Loss: 1.7454... Val Loss: 1.7232\n",
            "Epoch: 5/20... Step: 570... Loss: 1.7363... Val Loss: 1.7162\n",
            "Epoch: 5/20... Step: 580... Loss: 1.7097... Val Loss: 1.7032\n",
            "Epoch: 5/20... Step: 590... Loss: 1.7114... Val Loss: 1.6985\n",
            "Epoch: 5/20... Step: 600... Loss: 1.7011... Val Loss: 1.6918\n",
            "Epoch: 5/20... Step: 610... Loss: 1.6884... Val Loss: 1.6840\n",
            "Epoch: 5/20... Step: 620... Loss: 1.6845... Val Loss: 1.6794\n",
            "Epoch: 5/20... Step: 630... Loss: 1.7066... Val Loss: 1.6703\n",
            "Epoch: 5/20... Step: 640... Loss: 1.6736... Val Loss: 1.6637\n",
            "Epoch: 5/20... Step: 650... Loss: 1.6490... Val Loss: 1.6565\n",
            "Epoch: 5/20... Step: 660... Loss: 1.6492... Val Loss: 1.6481\n",
            "Epoch: 5/20... Step: 670... Loss: 1.6599... Val Loss: 1.6433\n",
            "Epoch: 5/20... Step: 680... Loss: 1.6670... Val Loss: 1.6347\n",
            "Epoch: 5/20... Step: 690... Loss: 1.6425... Val Loss: 1.6296\n",
            "Epoch: 6/20... Step: 700... Loss: 1.6336... Val Loss: 1.6213\n",
            "Epoch: 6/20... Step: 710... Loss: 1.6257... Val Loss: 1.6146\n",
            "Epoch: 6/20... Step: 720... Loss: 1.6121... Val Loss: 1.6170\n",
            "Epoch: 6/20... Step: 730... Loss: 1.6411... Val Loss: 1.6050\n",
            "Epoch: 6/20... Step: 740... Loss: 1.5946... Val Loss: 1.6023\n",
            "Epoch: 6/20... Step: 750... Loss: 1.5827... Val Loss: 1.5949\n",
            "Epoch: 6/20... Step: 760... Loss: 1.6109... Val Loss: 1.5880\n",
            "Epoch: 6/20... Step: 770... Loss: 1.5875... Val Loss: 1.5857\n",
            "Epoch: 6/20... Step: 780... Loss: 1.5779... Val Loss: 1.5771\n",
            "Epoch: 6/20... Step: 790... Loss: 1.5573... Val Loss: 1.5749\n",
            "Epoch: 6/20... Step: 800... Loss: 1.5849... Val Loss: 1.5690\n",
            "Epoch: 6/20... Step: 810... Loss: 1.5715... Val Loss: 1.5666\n",
            "Epoch: 6/20... Step: 820... Loss: 1.5365... Val Loss: 1.5590\n",
            "Epoch: 6/20... Step: 830... Loss: 1.5840... Val Loss: 1.5558\n",
            "Epoch: 7/20... Step: 840... Loss: 1.5350... Val Loss: 1.5477\n",
            "Epoch: 7/20... Step: 850... Loss: 1.5495... Val Loss: 1.5432\n",
            "Epoch: 7/20... Step: 860... Loss: 1.5281... Val Loss: 1.5361\n",
            "Epoch: 7/20... Step: 870... Loss: 1.5435... Val Loss: 1.5355\n",
            "Epoch: 7/20... Step: 880... Loss: 1.5455... Val Loss: 1.5287\n",
            "Epoch: 7/20... Step: 890... Loss: 1.5410... Val Loss: 1.5281\n",
            "Epoch: 7/20... Step: 900... Loss: 1.5186... Val Loss: 1.5224\n",
            "Epoch: 7/20... Step: 910... Loss: 1.4957... Val Loss: 1.5198\n",
            "Epoch: 7/20... Step: 920... Loss: 1.5116... Val Loss: 1.5204\n",
            "Epoch: 7/20... Step: 930... Loss: 1.4904... Val Loss: 1.5140\n",
            "Epoch: 7/20... Step: 940... Loss: 1.5050... Val Loss: 1.5135\n",
            "Epoch: 7/20... Step: 950... Loss: 1.5292... Val Loss: 1.5062\n",
            "Epoch: 7/20... Step: 960... Loss: 1.5149... Val Loss: 1.5052\n",
            "Epoch: 7/20... Step: 970... Loss: 1.5256... Val Loss: 1.4988\n",
            "Epoch: 8/20... Step: 980... Loss: 1.4908... Val Loss: 1.4968\n",
            "Epoch: 8/20... Step: 990... Loss: 1.4952... Val Loss: 1.4924\n",
            "Epoch: 8/20... Step: 1000... Loss: 1.4741... Val Loss: 1.4864\n",
            "Epoch: 8/20... Step: 1010... Loss: 1.5179... Val Loss: 1.4838\n",
            "Epoch: 8/20... Step: 1020... Loss: 1.4975... Val Loss: 1.4819\n",
            "Epoch: 8/20... Step: 1030... Loss: 1.4732... Val Loss: 1.4773\n",
            "Epoch: 8/20... Step: 1040... Loss: 1.4866... Val Loss: 1.4781\n",
            "Epoch: 8/20... Step: 1050... Loss: 1.4643... Val Loss: 1.4734\n",
            "Epoch: 8/20... Step: 1060... Loss: 1.4622... Val Loss: 1.4728\n",
            "Epoch: 8/20... Step: 1070... Loss: 1.4624... Val Loss: 1.4667\n",
            "Epoch: 8/20... Step: 1080... Loss: 1.4656... Val Loss: 1.4660\n",
            "Epoch: 8/20... Step: 1090... Loss: 1.4435... Val Loss: 1.4612\n",
            "Epoch: 8/20... Step: 1100... Loss: 1.4432... Val Loss: 1.4580\n",
            "Epoch: 8/20... Step: 1110... Loss: 1.4505... Val Loss: 1.4565\n",
            "Epoch: 9/20... Step: 1120... Loss: 1.4596... Val Loss: 1.4540\n",
            "Epoch: 9/20... Step: 1130... Loss: 1.4557... Val Loss: 1.4512\n",
            "Epoch: 9/20... Step: 1140... Loss: 1.4589... Val Loss: 1.4439\n",
            "Epoch: 9/20... Step: 1150... Loss: 1.4636... Val Loss: 1.4469\n",
            "Epoch: 9/20... Step: 1160... Loss: 1.4221... Val Loss: 1.4411\n",
            "Epoch: 9/20... Step: 1170... Loss: 1.4324... Val Loss: 1.4393\n",
            "Epoch: 9/20... Step: 1180... Loss: 1.4283... Val Loss: 1.4383\n",
            "Epoch: 9/20... Step: 1190... Loss: 1.4649... Val Loss: 1.4318\n",
            "Epoch: 9/20... Step: 1200... Loss: 1.4072... Val Loss: 1.4310\n",
            "Epoch: 9/20... Step: 1210... Loss: 1.4137... Val Loss: 1.4309\n",
            "Epoch: 9/20... Step: 1220... Loss: 1.4073... Val Loss: 1.4277\n",
            "Epoch: 9/20... Step: 1230... Loss: 1.3951... Val Loss: 1.4247\n",
            "Epoch: 9/20... Step: 1240... Loss: 1.3981... Val Loss: 1.4229\n",
            "Epoch: 9/20... Step: 1250... Loss: 1.4155... Val Loss: 1.4186\n",
            "Epoch: 10/20... Step: 1260... Loss: 1.4123... Val Loss: 1.4209\n",
            "Epoch: 10/20... Step: 1270... Loss: 1.4128... Val Loss: 1.4140\n",
            "Epoch: 10/20... Step: 1280... Loss: 1.4143... Val Loss: 1.4085\n",
            "Epoch: 10/20... Step: 1290... Loss: 1.4021... Val Loss: 1.4131\n",
            "Epoch: 10/20... Step: 1300... Loss: 1.3924... Val Loss: 1.4095\n",
            "Epoch: 10/20... Step: 1310... Loss: 1.4030... Val Loss: 1.4089\n",
            "Epoch: 10/20... Step: 1320... Loss: 1.3595... Val Loss: 1.4023\n",
            "Epoch: 10/20... Step: 1330... Loss: 1.3764... Val Loss: 1.4003\n",
            "Epoch: 10/20... Step: 1340... Loss: 1.3746... Val Loss: 1.3969\n",
            "Epoch: 10/20... Step: 1350... Loss: 1.3549... Val Loss: 1.4013\n",
            "Epoch: 10/20... Step: 1360... Loss: 1.3664... Val Loss: 1.3942\n",
            "Epoch: 10/20... Step: 1370... Loss: 1.3504... Val Loss: 1.3904\n",
            "Epoch: 10/20... Step: 1380... Loss: 1.3927... Val Loss: 1.3881\n",
            "Epoch: 10/20... Step: 1390... Loss: 1.3947... Val Loss: 1.3877\n",
            "Epoch: 11/20... Step: 1400... Loss: 1.3983... Val Loss: 1.3821\n",
            "Epoch: 11/20... Step: 1410... Loss: 1.4105... Val Loss: 1.3924\n",
            "Epoch: 11/20... Step: 1420... Loss: 1.3943... Val Loss: 1.3814\n",
            "Epoch: 11/20... Step: 1430... Loss: 1.3634... Val Loss: 1.3783\n",
            "Epoch: 11/20... Step: 1440... Loss: 1.3840... Val Loss: 1.3819\n",
            "Epoch: 11/20... Step: 1450... Loss: 1.3178... Val Loss: 1.3762\n",
            "Epoch: 11/20... Step: 1460... Loss: 1.3475... Val Loss: 1.3730\n",
            "Epoch: 11/20... Step: 1470... Loss: 1.3364... Val Loss: 1.3738\n",
            "Epoch: 11/20... Step: 1480... Loss: 1.3568... Val Loss: 1.3683\n",
            "Epoch: 11/20... Step: 1490... Loss: 1.3389... Val Loss: 1.3658\n",
            "Epoch: 11/20... Step: 1500... Loss: 1.3344... Val Loss: 1.3686\n",
            "Epoch: 11/20... Step: 1510... Loss: 1.3082... Val Loss: 1.3699\n",
            "Epoch: 11/20... Step: 1520... Loss: 1.3477... Val Loss: 1.3700\n",
            "Epoch: 12/20... Step: 1530... Loss: 1.4411... Val Loss: 1.3686\n",
            "Epoch: 12/20... Step: 1540... Loss: 1.3638... Val Loss: 1.3702\n",
            "Epoch: 12/20... Step: 1550... Loss: 1.3607... Val Loss: 1.3595\n",
            "Epoch: 12/20... Step: 1560... Loss: 1.3666... Val Loss: 1.3563\n",
            "Epoch: 12/20... Step: 1570... Loss: 1.3150... Val Loss: 1.3560\n",
            "Epoch: 12/20... Step: 1580... Loss: 1.3034... Val Loss: 1.3558\n",
            "Epoch: 12/20... Step: 1590... Loss: 1.2968... Val Loss: 1.3604\n",
            "Epoch: 12/20... Step: 1600... Loss: 1.3174... Val Loss: 1.3561\n",
            "Epoch: 12/20... Step: 1610... Loss: 1.3138... Val Loss: 1.3593\n",
            "Epoch: 12/20... Step: 1620... Loss: 1.3104... Val Loss: 1.3585\n",
            "Epoch: 12/20... Step: 1630... Loss: 1.3355... Val Loss: 1.3498\n",
            "Epoch: 12/20... Step: 1640... Loss: 1.3157... Val Loss: 1.3545\n",
            "Epoch: 12/20... Step: 1650... Loss: 1.2841... Val Loss: 1.3517\n",
            "Epoch: 12/20... Step: 1660... Loss: 1.3410... Val Loss: 1.3452\n",
            "Epoch: 13/20... Step: 1670... Loss: 1.3117... Val Loss: 1.3509\n",
            "Epoch: 13/20... Step: 1680... Loss: 1.3298... Val Loss: 1.3412\n",
            "Epoch: 13/20... Step: 1690... Loss: 1.3043... Val Loss: 1.3386\n",
            "Epoch: 13/20... Step: 1700... Loss: 1.2951... Val Loss: 1.3439\n",
            "Epoch: 13/20... Step: 1710... Loss: 1.2945... Val Loss: 1.3447\n",
            "Epoch: 13/20... Step: 1720... Loss: 1.2897... Val Loss: 1.3415\n",
            "Epoch: 13/20... Step: 1730... Loss: 1.3310... Val Loss: 1.3427\n",
            "Epoch: 13/20... Step: 1740... Loss: 1.2892... Val Loss: 1.3363\n",
            "Epoch: 13/20... Step: 1750... Loss: 1.2674... Val Loss: 1.3399\n",
            "Epoch: 13/20... Step: 1760... Loss: 1.2941... Val Loss: 1.3339\n",
            "Epoch: 13/20... Step: 1770... Loss: 1.3128... Val Loss: 1.3363\n",
            "Epoch: 13/20... Step: 1780... Loss: 1.2927... Val Loss: 1.3380\n",
            "Epoch: 13/20... Step: 1790... Loss: 1.2748... Val Loss: 1.3354\n",
            "Epoch: 13/20... Step: 1800... Loss: 1.3016... Val Loss: 1.3335\n",
            "Epoch: 14/20... Step: 1810... Loss: 1.3030... Val Loss: 1.3344\n",
            "Epoch: 14/20... Step: 1820... Loss: 1.2949... Val Loss: 1.3293\n",
            "Epoch: 14/20... Step: 1830... Loss: 1.3024... Val Loss: 1.3243\n",
            "Epoch: 14/20... Step: 1840... Loss: 1.2517... Val Loss: 1.3285\n",
            "Epoch: 14/20... Step: 1850... Loss: 1.2338... Val Loss: 1.3286\n",
            "Epoch: 14/20... Step: 1860... Loss: 1.3020... Val Loss: 1.3278\n",
            "Epoch: 14/20... Step: 1870... Loss: 1.3035... Val Loss: 1.3297\n",
            "Epoch: 14/20... Step: 1880... Loss: 1.2969... Val Loss: 1.3236\n",
            "Epoch: 14/20... Step: 1890... Loss: 1.3045... Val Loss: 1.3302\n",
            "Epoch: 14/20... Step: 1900... Loss: 1.2847... Val Loss: 1.3242\n",
            "Epoch: 14/20... Step: 1910... Loss: 1.2889... Val Loss: 1.3245\n",
            "Epoch: 14/20... Step: 1920... Loss: 1.2932... Val Loss: 1.3245\n",
            "Epoch: 14/20... Step: 1930... Loss: 1.2466... Val Loss: 1.3228\n",
            "Epoch: 14/20... Step: 1940... Loss: 1.3012... Val Loss: 1.3248\n",
            "Epoch: 15/20... Step: 1950... Loss: 1.2768... Val Loss: 1.3341\n",
            "Epoch: 15/20... Step: 1960... Loss: 1.2696... Val Loss: 1.3282\n",
            "Epoch: 15/20... Step: 1970... Loss: 1.2705... Val Loss: 1.3180\n",
            "Epoch: 15/20... Step: 1980... Loss: 1.2582... Val Loss: 1.3219\n",
            "Epoch: 15/20... Step: 1990... Loss: 1.2612... Val Loss: 1.3198\n",
            "Epoch: 15/20... Step: 2000... Loss: 1.2467... Val Loss: 1.3203\n",
            "Epoch: 15/20... Step: 2010... Loss: 1.2668... Val Loss: 1.3137\n",
            "Epoch: 15/20... Step: 2020... Loss: 1.2786... Val Loss: 1.3152\n",
            "Epoch: 15/20... Step: 2030... Loss: 1.2498... Val Loss: 1.3177\n",
            "Epoch: 15/20... Step: 2040... Loss: 1.2729... Val Loss: 1.3133\n",
            "Epoch: 15/20... Step: 2050... Loss: 1.2472... Val Loss: 1.3144\n",
            "Epoch: 15/20... Step: 2060... Loss: 1.2615... Val Loss: 1.3160\n",
            "Epoch: 15/20... Step: 2070... Loss: 1.2696... Val Loss: 1.3130\n",
            "Epoch: 15/20... Step: 2080... Loss: 1.2623... Val Loss: 1.3122\n",
            "Epoch: 16/20... Step: 2090... Loss: 1.2786... Val Loss: 1.3168\n",
            "Epoch: 16/20... Step: 2100... Loss: 1.2521... Val Loss: 1.3093\n",
            "Epoch: 16/20... Step: 2110... Loss: 1.2530... Val Loss: 1.3070\n",
            "Epoch: 16/20... Step: 2120... Loss: 1.2596... Val Loss: 1.3101\n",
            "Epoch: 16/20... Step: 2130... Loss: 1.2379... Val Loss: 1.3083\n",
            "Epoch: 16/20... Step: 2140... Loss: 1.2421... Val Loss: 1.3091\n",
            "Epoch: 16/20... Step: 2150... Loss: 1.2724... Val Loss: 1.3082\n",
            "Epoch: 16/20... Step: 2160... Loss: 1.2457... Val Loss: 1.3030\n",
            "Epoch: 16/20... Step: 2170... Loss: 1.2457... Val Loss: 1.3108\n",
            "Epoch: 16/20... Step: 2180... Loss: 1.2415... Val Loss: 1.3080\n",
            "Epoch: 16/20... Step: 2190... Loss: 1.2587... Val Loss: 1.3029\n",
            "Epoch: 16/20... Step: 2200... Loss: 1.2445... Val Loss: 1.3009\n",
            "Epoch: 16/20... Step: 2210... Loss: 1.2134... Val Loss: 1.3006\n",
            "Epoch: 16/20... Step: 2220... Loss: 1.2512... Val Loss: 1.3002\n",
            "Epoch: 17/20... Step: 2230... Loss: 1.2346... Val Loss: 1.2967\n",
            "Epoch: 17/20... Step: 2240... Loss: 1.2411... Val Loss: 1.3033\n",
            "Epoch: 17/20... Step: 2250... Loss: 1.2160... Val Loss: 1.2978\n",
            "Epoch: 17/20... Step: 2260... Loss: 1.2275... Val Loss: 1.2980\n",
            "Epoch: 17/20... Step: 2270... Loss: 1.2443... Val Loss: 1.2957\n",
            "Epoch: 17/20... Step: 2280... Loss: 1.2518... Val Loss: 1.2949\n",
            "Epoch: 17/20... Step: 2290... Loss: 1.2445... Val Loss: 1.2938\n",
            "Epoch: 17/20... Step: 2300... Loss: 1.2182... Val Loss: 1.2931\n",
            "Epoch: 17/20... Step: 2310... Loss: 1.2317... Val Loss: 1.2988\n",
            "Epoch: 17/20... Step: 2320... Loss: 1.2258... Val Loss: 1.2954\n",
            "Epoch: 17/20... Step: 2330... Loss: 1.2194... Val Loss: 1.2959\n",
            "Epoch: 17/20... Step: 2340... Loss: 1.2462... Val Loss: 1.2940\n",
            "Epoch: 17/20... Step: 2350... Loss: 1.2407... Val Loss: 1.2915\n",
            "Epoch: 17/20... Step: 2360... Loss: 1.2531... Val Loss: 1.3040\n",
            "Epoch: 18/20... Step: 2370... Loss: 1.2290... Val Loss: 1.2989\n",
            "Epoch: 18/20... Step: 2380... Loss: 1.2229... Val Loss: 1.2958\n",
            "Epoch: 18/20... Step: 2390... Loss: 1.2231... Val Loss: 1.2946\n",
            "Epoch: 18/20... Step: 2400... Loss: 1.2556... Val Loss: 1.2889\n",
            "Epoch: 18/20... Step: 2410... Loss: 1.2519... Val Loss: 1.2938\n",
            "Epoch: 18/20... Step: 2420... Loss: 1.2190... Val Loss: 1.2950\n",
            "Epoch: 18/20... Step: 2430... Loss: 1.2333... Val Loss: 1.2881\n",
            "Epoch: 18/20... Step: 2440... Loss: 1.2152... Val Loss: 1.2866\n",
            "Epoch: 18/20... Step: 2450... Loss: 1.2102... Val Loss: 1.2882\n",
            "Epoch: 18/20... Step: 2460... Loss: 1.2375... Val Loss: 1.2857\n",
            "Epoch: 18/20... Step: 2470... Loss: 1.2242... Val Loss: 1.2906\n",
            "Epoch: 18/20... Step: 2480... Loss: 1.2050... Val Loss: 1.2835\n",
            "Epoch: 18/20... Step: 2490... Loss: 1.2089... Val Loss: 1.2824\n",
            "Epoch: 18/20... Step: 2500... Loss: 1.2037... Val Loss: 1.2890\n",
            "Epoch: 19/20... Step: 2510... Loss: 1.2161... Val Loss: 1.2846\n",
            "Epoch: 19/20... Step: 2520... Loss: 1.2326... Val Loss: 1.2836\n",
            "Epoch: 19/20... Step: 2530... Loss: 1.2330... Val Loss: 1.2859\n",
            "Epoch: 19/20... Step: 2540... Loss: 1.2446... Val Loss: 1.2843\n",
            "Epoch: 19/20... Step: 2550... Loss: 1.2090... Val Loss: 1.2850\n",
            "Epoch: 19/20... Step: 2560... Loss: 1.2206... Val Loss: 1.2892\n",
            "Epoch: 19/20... Step: 2570... Loss: 1.2067... Val Loss: 1.2927\n",
            "Epoch: 19/20... Step: 2580... Loss: 1.2423... Val Loss: 1.2802\n",
            "Epoch: 19/20... Step: 2590... Loss: 1.1978... Val Loss: 1.2861\n",
            "Epoch: 19/20... Step: 2600... Loss: 1.2027... Val Loss: 1.2820\n",
            "Epoch: 19/20... Step: 2610... Loss: 1.2085... Val Loss: 1.2869\n",
            "Epoch: 19/20... Step: 2620... Loss: 1.1980... Val Loss: 1.2797\n",
            "Epoch: 19/20... Step: 2630... Loss: 1.1964... Val Loss: 1.2775\n",
            "Epoch: 19/20... Step: 2640... Loss: 1.2120... Val Loss: 1.2805\n",
            "Epoch: 20/20... Step: 2650... Loss: 1.2026... Val Loss: 1.2804\n",
            "Epoch: 20/20... Step: 2660... Loss: 1.2103... Val Loss: 1.2823\n",
            "Epoch: 20/20... Step: 2670... Loss: 1.2182... Val Loss: 1.2797\n",
            "Epoch: 20/20... Step: 2680... Loss: 1.2142... Val Loss: 1.2789\n",
            "Epoch: 20/20... Step: 2690... Loss: 1.2055... Val Loss: 1.2794\n",
            "Epoch: 20/20... Step: 2700... Loss: 1.2096... Val Loss: 1.2803\n",
            "Epoch: 20/20... Step: 2710... Loss: 1.1879... Val Loss: 1.2744\n",
            "Epoch: 20/20... Step: 2720... Loss: 1.1809... Val Loss: 1.2773\n",
            "Epoch: 20/20... Step: 2730... Loss: 1.1797... Val Loss: 1.2790\n",
            "Epoch: 20/20... Step: 2740... Loss: 1.1891... Val Loss: 1.2789\n",
            "Epoch: 20/20... Step: 2750... Loss: 1.1911... Val Loss: 1.2820\n",
            "Epoch: 20/20... Step: 2760... Loss: 1.1828... Val Loss: 1.2764\n",
            "Epoch: 20/20... Step: 2770... Loss: 1.2147... Val Loss: 1.2804\n",
            "Epoch: 20/20... Step: 2780... Loss: 1.2412... Val Loss: 1.2789\n"
          ],
          "name": "stdout"
        }
      ]
    },
    {
      "cell_type": "code",
      "metadata": {
        "id": "mtabvJJvuXZU",
        "colab_type": "code",
        "colab": {}
      },
      "source": [
        "# change the name, for saving multiple files\n",
        "model_name = 'rnn_20_epoch.net'\n",
        "\n",
        "checkpoint = {'n_hidden': net.n_hidden,\n",
        "              'n_layers': net.n_layers,\n",
        "              'state_dict': net.state_dict(),\n",
        "              'tokens': net.chars}\n",
        "\n",
        "with open(model_name, 'wb') as f:\n",
        "    torch.save(checkpoint, f)"
      ],
      "execution_count": 0,
      "outputs": []
    },
    {
      "cell_type": "code",
      "metadata": {
        "id": "UJaxbSoruwBr",
        "colab_type": "code",
        "colab": {}
      },
      "source": [
        "def predict(net, char, h=None, top_k=None):\n",
        "        \n",
        "        \n",
        "        x = np.array([[net.char2int[char]]])\n",
        "        x = one_hot_encode(x, len(net.chars))\n",
        "        inputs = torch.from_numpy(x)\n",
        "        \n",
        "        if(train_on_gpu):\n",
        "            inputs = inputs.cuda()\n",
        "      \n",
        "        h = tuple([each.data for each in h])\n",
        "        \n",
        "        out, h = net(inputs, h)\n",
        "        p = F.softmax(out, dim=1).data\n",
        "        if(train_on_gpu):\n",
        "            p = p.cpu() \n",
        "        \n",
        "        if top_k is None:\n",
        "            top_ch = np.arange(len(net.chars))\n",
        "        else:\n",
        "            p, top_ch = p.topk(top_k)\n",
        "            top_ch = top_ch.numpy().squeeze()\n",
        "        \n",
        "        p = p.numpy().squeeze()\n",
        "        char = np.random.choice(top_ch, p=p/p.sum())\n",
        "        \n",
        "        return net.int2char[char], h"
      ],
      "execution_count": 0,
      "outputs": []
    },
    {
      "cell_type": "code",
      "metadata": {
        "id": "wW5G4fDRu6Zc",
        "colab_type": "code",
        "colab": {}
      },
      "source": [
        "def sample(net, size, prime='The', top_k=None):\n",
        "        \n",
        "    if(train_on_gpu):\n",
        "        net.cuda()\n",
        "    else:\n",
        "        net.cpu()\n",
        "    \n",
        "    net.eval() \n",
        "    chars = [ch for ch in prime]\n",
        "    h = net.init_hidden(1)\n",
        "    for ch in prime:\n",
        "        char, h = predict(net, ch, h, top_k=top_k)\n",
        "\n",
        "    chars.append(char)\n",
        "    for ii in range(size):\n",
        "        char, h = predict(net, chars[-1], h, top_k=top_k)\n",
        "        chars.append(char)\n",
        "\n",
        "    return ''.join(chars)"
      ],
      "execution_count": 0,
      "outputs": []
    },
    {
      "cell_type": "code",
      "metadata": {
        "id": "lkKxxThfvAPb",
        "colab_type": "code",
        "outputId": "38753562-8e68-4552-8e8e-d13b32c808be",
        "colab": {
          "base_uri": "https://localhost:8080/",
          "height": 370
        }
      },
      "source": [
        "print(sample(net, 1000, prime='Anna', top_k=5))"
      ],
      "execution_count": 62,
      "outputs": [
        {
          "output_type": "stream",
          "text": [
            "Anna. But that it was\n",
            "a chair in the counting-horses threeting his heart. Before he had not\n",
            "broken out to him with a miles, had been completely calling, and her sincere\n",
            "and all the comnified homest and talking to him, he had not been in\n",
            "a special face of his brother with the sole face to her farely.\n",
            "\n",
            "The same words was a sill and strange that iss way for the men with her\n",
            "the hundred and taken a small stind souls, her bout was standing to see,\n",
            "and so it was to stand any match overwains.\n",
            "\n",
            "Sergey Ivanovitch was said.\n",
            "\n",
            "\"Yes, tell me, I didn't come to the clearness of you. I'm not to speak to\n",
            "him?\" said Vronsky, as a left and talk off, and he sat to her surerisen,\n",
            "still at acquaintance in which the doctor smiled at her.\n",
            "\n",
            "\"Why an a men, and I've been bright, it was all the same the sister,\n",
            "we have been told you so left. And the same there is not, as you see that\n",
            "I do not think in that might be, and she's any of the marsh?\" said Stepan\n",
            "Arkadyevitch, and at the commind of the princess answered his\n",
            "\n"
          ],
          "name": "stdout"
        }
      ]
    },
    {
      "cell_type": "code",
      "metadata": {
        "id": "mdaXjF4VvCRj",
        "colab_type": "code",
        "colab": {}
      },
      "source": [
        ""
      ],
      "execution_count": 0,
      "outputs": []
    }
  ]
}