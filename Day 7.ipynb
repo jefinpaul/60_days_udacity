{
 "cells": [
  {
   "cell_type": "code",
   "execution_count": 3,
   "metadata": {},
   "outputs": [],
   "source": [
    "\n",
    "import torch\n",
    "from torch import nn\n",
    "import torch.nn.functional as F\n",
    "from torchvision import datasets, transforms\n",
    "\n",
    "# Define a transform to normalize the data\n",
    "transform = transforms.Compose([transforms.ToTensor(),\n",
    "                                transforms.Normalize((0.5,), (0.5,)),\n",
    "                              ])\n",
    "# Download and load the training data\n",
    "trainset = datasets.MNIST('~/.pytorch/MNIST_data/', download=True, train=True, transform=transform)\n",
    "trainloader = torch.utils.data.DataLoader(trainset, batch_size=64, shuffle=True)"
   ]
  },
  {
   "cell_type": "code",
   "execution_count": 4,
   "metadata": {},
   "outputs": [],
   "source": [
    "#Loss and Autograd together\n",
    "model = nn.Sequential(nn.Linear(784, 128),\n",
    "                      nn.ReLU(),\n",
    "                      nn.Linear(128, 64),\n",
    "                      nn.ReLU(),\n",
    "                      nn.Linear(64, 10),\n",
    "                      nn.LogSoftmax(dim=1))\n",
    "\n",
    "criterion = nn.NLLLoss()\n",
    "images, labels = next(iter(trainloader))\n",
    "images = images.view(images.shape[0], -1)\n",
    "\n",
    "logps = model(images)\n",
    "loss = criterion(logps, labels)"
   ]
  },
  {
   "cell_type": "code",
   "execution_count": 5,
   "metadata": {},
   "outputs": [
    {
     "name": "stdout",
     "output_type": "stream",
     "text": [
      "Before backward pass: \n",
      " None\n",
      "After backward pass: \n",
      " tensor([[ 2.8815e-03,  2.8815e-03,  2.8815e-03,  ...,  2.8815e-03,\n",
      "          2.8815e-03,  2.8815e-03],\n",
      "        [-9.6081e-05, -9.6081e-05, -9.6081e-05,  ..., -9.6081e-05,\n",
      "         -9.6081e-05, -9.6081e-05],\n",
      "        [ 1.2010e-03,  1.2010e-03,  1.2010e-03,  ...,  1.2010e-03,\n",
      "          1.2010e-03,  1.2010e-03],\n",
      "        ...,\n",
      "        [-1.6559e-03, -1.6559e-03, -1.6559e-03,  ..., -1.6559e-03,\n",
      "         -1.6559e-03, -1.6559e-03],\n",
      "        [ 5.1427e-05,  5.1427e-05,  5.1427e-05,  ...,  5.1427e-05,\n",
      "          5.1427e-05,  5.1427e-05],\n",
      "        [ 2.3636e-03,  2.3636e-03,  2.3636e-03,  ...,  2.3636e-03,\n",
      "          2.3636e-03,  2.3636e-03]])\n"
     ]
    }
   ],
   "source": [
    "print('Before backward pass: \\n', model[0].weight.grad)\n",
    "\n",
    "loss.backward()\n",
    "\n",
    "print('After backward pass: \\n', model[0].weight.grad)"
   ]
  },
  {
   "cell_type": "code",
   "execution_count": 6,
   "metadata": {},
   "outputs": [],
   "source": [
    "#stochastic gradient descent with optim.SGD\n",
    "from torch import optim\n",
    "\n",
    "# Optimizers require the parameters to optimize and a learning rate\n",
    "optimizer = optim.SGD(model.parameters(), lr=0.01)"
   ]
  },
  {
   "cell_type": "code",
   "execution_count": 7,
   "metadata": {},
   "outputs": [
    {
     "name": "stdout",
     "output_type": "stream",
     "text": [
      "Initial weights -  Parameter containing:\n",
      "tensor([[-0.0113, -0.0258,  0.0286,  ...,  0.0105, -0.0291,  0.0215],\n",
      "        [ 0.0150,  0.0281,  0.0197,  ...,  0.0039, -0.0038, -0.0109],\n",
      "        [ 0.0140, -0.0019, -0.0276,  ...,  0.0070,  0.0133, -0.0243],\n",
      "        ...,\n",
      "        [ 0.0010,  0.0323,  0.0280,  ..., -0.0047, -0.0174,  0.0230],\n",
      "        [ 0.0228,  0.0243,  0.0121,  ...,  0.0153, -0.0303,  0.0176],\n",
      "        [ 0.0124,  0.0019, -0.0081,  ..., -0.0214, -0.0100, -0.0207]],\n",
      "       requires_grad=True)\n",
      "Gradient - tensor([[ 6.0185e-04,  6.0185e-04,  6.0185e-04,  ...,  6.0185e-04,\n",
      "          6.0185e-04,  6.0185e-04],\n",
      "        [-1.1244e-03, -1.1244e-03, -1.1244e-03,  ..., -1.1244e-03,\n",
      "         -1.1244e-03, -1.1244e-03],\n",
      "        [-1.1488e-05, -1.1488e-05, -1.1488e-05,  ..., -1.1488e-05,\n",
      "         -1.1488e-05, -1.1488e-05],\n",
      "        ...,\n",
      "        [ 1.7371e-03,  1.7371e-03,  1.7371e-03,  ...,  1.7371e-03,\n",
      "          1.7371e-03,  1.7371e-03],\n",
      "        [ 1.0028e-03,  1.0028e-03,  1.0028e-03,  ...,  1.0028e-03,\n",
      "          1.0028e-03,  1.0028e-03],\n",
      "        [-3.3469e-03, -3.3469e-03, -3.3469e-03,  ..., -3.3469e-03,\n",
      "         -3.3469e-03, -3.3469e-03]])\n"
     ]
    }
   ],
   "source": [
    "print('Initial weights - ', model[0].weight)\n",
    "\n",
    "images, labels = next(iter(trainloader))\n",
    "images.resize_(64, 784)\n",
    "\n",
    "# Clear the gradients, do this because gradients are accumulated\n",
    "optimizer.zero_grad()\n",
    "\n",
    "# Forward pass, then backward pass, then update weights\n",
    "output = model(images)\n",
    "loss = criterion(output, labels)\n",
    "loss.backward()\n",
    "print('Gradient -', model[0].weight.grad)"
   ]
  },
  {
   "cell_type": "code",
   "execution_count": 8,
   "metadata": {},
   "outputs": [
    {
     "name": "stdout",
     "output_type": "stream",
     "text": [
      "Updated weights -  Parameter containing:\n",
      "tensor([[-0.0113, -0.0258,  0.0286,  ...,  0.0105, -0.0291,  0.0215],\n",
      "        [ 0.0150,  0.0281,  0.0197,  ...,  0.0039, -0.0037, -0.0109],\n",
      "        [ 0.0140, -0.0019, -0.0276,  ...,  0.0070,  0.0133, -0.0243],\n",
      "        ...,\n",
      "        [ 0.0010,  0.0323,  0.0280,  ..., -0.0047, -0.0174,  0.0230],\n",
      "        [ 0.0228,  0.0242,  0.0121,  ...,  0.0153, -0.0303,  0.0176],\n",
      "        [ 0.0124,  0.0019, -0.0081,  ..., -0.0213, -0.0100, -0.0207]],\n",
      "       requires_grad=True)\n"
     ]
    }
   ],
   "source": [
    "optimizer.step()\n",
    "print('Updated weights - ', model[0].weight)"
   ]
  },
  {
   "cell_type": "code",
   "execution_count": 11,
   "metadata": {},
   "outputs": [
    {
     "name": "stdout",
     "output_type": "stream",
     "text": [
      "Training loss: 2.016396059537493\n",
      "Training loss: 0.947768965096616\n",
      "Training loss: 0.5444609115499932\n",
      "Training loss: 0.43864738520210994\n",
      "Training loss: 0.39137791287797347\n"
     ]
    }
   ],
   "source": [
    "#put this algorithm into a loop\n",
    "model = nn.Sequential(nn.Linear(784, 128),\n",
    "                      nn.ReLU(),\n",
    "                      nn.Linear(128, 64),\n",
    "                      nn.ReLU(),\n",
    "                      nn.Linear(64, 10),\n",
    "                      nn.LogSoftmax(dim=1))\n",
    "\n",
    "criterion = nn.NLLLoss()\n",
    "optimizer = optim.SGD(model.parameters(), lr=0.003)\n",
    "\n",
    "epochs = 5\n",
    "for e in range(epochs):\n",
    "    running_loss = 0\n",
    "    for images, labels in trainloader:\n",
    "        # Flatten MNIST images into a 784 long vector\n",
    "        images = images.view(images.shape[0], -1)\n",
    "    \n",
    "        # TODO: Training pass\n",
    "        optimizer.zero_grad()\n",
    "        \n",
    "        output = model(images)\n",
    "        loss = criterion(output, labels)\n",
    "        loss.backward()\n",
    "        optimizer.step()\n",
    "        \n",
    "        running_loss += loss.item()\n",
    "    else:\n",
    "        print(f\"Training loss: {running_loss/len(trainloader)}\")"
   ]
  },
  {
   "cell_type": "code",
   "execution_count": 12,
   "metadata": {},
   "outputs": [
    {
     "data": {
      "image/png": "[encoded data removed]",
      "text/plain": [
       "<Figure size 432x648 with 2 Axes>"
      ]
     },
     "metadata": {
      "needs_background": "light"
     },
     "output_type": "display_data"
    }
   ],
   "source": [
    "%matplotlib inline\n",
    "import helper\n",
    "\n",
    "images, labels = next(iter(trainloader))\n",
    "\n",
    "img = images[0].view(1, 784)\n",
    "# Turn off gradients to speed up this part\n",
    "with torch.no_grad():\n",
    "    logps = model(img)\n",
    "\n",
    "# Output of the network are log-probabilities, need to take exponential for probabilities\n",
    "ps = torch.exp(logps)\n",
    "helper.view_classify(img.view(1, 28, 28), ps)"
   ]
  },
  {
   "cell_type": "code",
   "execution_count": null,
   "metadata": {},
   "outputs": [],
   "source": []
  }
 ],
 "metadata": {
  "kernelspec": {
   "display_name": "Python 3",
   "language": "python",
   "name": "python3"
  },
  "language_info": {
   "codemirror_mode": {
    "name": "ipython",
    "version": 3
   },
   "file_extension": ".py",
   "mimetype": "text/x-python",
   "name": "python",
   "nbconvert_exporter": "python",
   "pygments_lexer": "ipython3",
   "version": "3.7.4"
  }
 },
 "nbformat": 4,
 "nbformat_minor": 2
}
