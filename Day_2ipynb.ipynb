{
  "nbformat": 4,
  "nbformat_minor": 0,
  "metadata": {
    "colab": {
      "name": "Day 2ipynb",
      "provenance": []
    },
    "kernelspec": {
      "name": "python3",
      "display_name": "Python 3"
    }
  },
  "cells": [
    {
      "cell_type": "code",
      "metadata": {
        "id": "kqWQuTzAO3YS",
        "colab_type": "code",
        "colab": {}
      },
      "source": [
        "import torch"
      ],
      "execution_count": 0,
      "outputs": []
    },
    {
      "cell_type": "code",
      "metadata": {
        "id": "Ffeh58KsO5Yi",
        "colab_type": "code",
        "colab": {}
      },
      "source": [
        "def activation(x):\n",
        "    return 1/(1+torch.exp(-x))"
      ],
      "execution_count": 0,
      "outputs": []
    },
    {
      "cell_type": "code",
      "metadata": {
        "id": "RASwYZygRXQv",
        "colab_type": "code",
        "colab": {
          "base_uri": "https://localhost:8080/",
          "height": 34
        },
        "outputId": "2312e35a-dbf5-46c1-ef28-5dc240a17e30"
      },
      "source": [
        "### Generate some data\n",
        "torch.manual_seed(7)"
      ],
      "execution_count": 3,
      "outputs": [
        {
          "output_type": "execute_result",
          "data": {
            "text/plain": [
              "<torch._C.Generator at 0x7f3ad9ec0d90>"
            ]
          },
          "metadata": {
            "tags": []
          },
          "execution_count": 3
        }
      ]
    },
    {
      "cell_type": "code",
      "metadata": {
        "id": "-ki-qzi3RdDG",
        "colab_type": "code",
        "colab": {}
      },
      "source": [
        "# Features are 5 random normal variables with rows and columns\n",
        "features = torch.randn(1,5)\n",
        "# True weights for our data, random normal variables again (taking shape of another tensor and then creating it)\n",
        "weights = torch.randn_like(features)\n",
        "# and a true bias term\n",
        "bias = torch.randn((1, 1))"
      ],
      "execution_count": 0,
      "outputs": []
    },
    {
      "cell_type": "code",
      "metadata": {
        "id": "Xph5ydtRR6TA",
        "colab_type": "code",
        "colab": {}
      },
      "source": [
        "# Exercise 1 to calculate sum and put in activation function\n",
        "output=activation(torch.sum(features*weights)+1)\n"
      ],
      "execution_count": 0,
      "outputs": []
    },
    {
      "cell_type": "code",
      "metadata": {
        "id": "BvpjCM5HWS24",
        "colab_type": "code",
        "colab": {
          "base_uri": "https://localhost:8080/",
          "height": 34
        },
        "outputId": "f02e659a-abeb-4091-e290-29b91944529e"
      },
      "source": [
        "#matrix multiplication\n",
        "\n",
        "y=activation(torch.mm(features,weights.view(5, 1))+bias)\n",
        "print(y)"
      ],
      "execution_count": 14,
      "outputs": [
        {
          "output_type": "stream",
          "text": [
            "tensor([[0.2443]])\n"
          ],
          "name": "stdout"
        }
      ]
    },
    {
      "cell_type": "code",
      "metadata": {
        "id": "xta5H7lLTCRK",
        "colab_type": "code",
        "colab": {}
      },
      "source": [
        "\n",
        "#to return new tensor with the same data as weights with size (a, b) >weights.shape(a,b)\n",
        "#to return the same tensor with a different shape >weights.resize_(a,b)\n",
        "#to return new tensor with the same data as weights with size (a, b) >weights.view(a,b)\n"
      ],
      "execution_count": 0,
      "outputs": []
    },
    {
      "cell_type": "code",
      "metadata": {
        "id": "RnLdRzMtW7i2",
        "colab_type": "code",
        "colab": {
          "base_uri": "https://localhost:8080/",
          "height": 34
        },
        "outputId": "5c6c452b-49e5-4636-874b-903758d5aaa0"
      },
      "source": [
        "### Generate some data\n",
        "torch.manual_seed(7) # Set the random seed so things are predictable\n",
        "\n",
        "# Features are 3 random normal variables\n",
        "features = torch.randn((1, 3))\n",
        "\n",
        "# Define the size of each layer in our network\n",
        "n_input = features.shape[1]     # Number of input units, must match number of input features\n",
        "n_hidden = 2                    # Number of hidden units \n",
        "n_output = 1                    # Number of output units\n",
        "\n",
        "# Weights for inputs to hidden layer\n",
        "W1 = torch.randn(n_input, n_hidden)\n",
        "# Weights for hidden layer to output layer\n",
        "W2 = torch.randn(n_hidden, n_output)\n",
        "\n",
        "# and bias terms for hidden and output layers\n",
        "B1 = torch.randn((1, n_hidden))\n",
        "B2 = torch.randn((1, n_output))\n",
        "\n",
        "#Calculate the output for this multi-layer network using the weights W1 & W2, and the biases, B1 & B2.\n",
        "\n",
        "h = activation(torch.mm(features, W1) + B1)\n",
        "output = activation(torch.mm(h, W2) + B2)\n",
        "print(output)"
      ],
      "execution_count": 15,
      "outputs": [
        {
          "output_type": "stream",
          "text": [
            "tensor([[0.3171]])\n"
          ],
          "name": "stdout"
        }
      ]
    },
    {
      "cell_type": "code",
      "metadata": {
        "id": "GGzCWHQMYm9M",
        "colab_type": "code",
        "colab": {
          "base_uri": "https://localhost:8080/",
          "height": 84
        },
        "outputId": "4220e76e-641c-42bf-8bfb-1b2558126534"
      },
      "source": [
        "import numpy as np\n",
        "a = np.random.rand(4,3)\n",
        "a"
      ],
      "execution_count": 16,
      "outputs": [
        {
          "output_type": "execute_result",
          "data": {
            "text/plain": [
              "array([[0.57113816, 0.91030763, 0.24195849],\n",
              "       [0.5843681 , 0.65368255, 0.06991365],\n",
              "       [0.75448944, 0.90180075, 0.95096476],\n",
              "       [0.87362536, 0.31923205, 0.86346829]])"
            ]
          },
          "metadata": {
            "tags": []
          },
          "execution_count": 16
        }
      ]
    },
    {
      "cell_type": "code",
      "metadata": {
        "id": "XB1wKD0rYrky",
        "colab_type": "code",
        "colab": {
          "base_uri": "https://localhost:8080/",
          "height": 84
        },
        "outputId": "04f348bc-fae3-4600-f6a1-b54fe52a6209"
      },
      "source": [
        "#to get tensor from numpy array\n",
        "b=torch.from_numpy(a)\n",
        "b"
      ],
      "execution_count": 17,
      "outputs": [
        {
          "output_type": "execute_result",
          "data": {
            "text/plain": [
              "tensor([[0.5711, 0.9103, 0.2420],\n",
              "        [0.5844, 0.6537, 0.0699],\n",
              "        [0.7545, 0.9018, 0.9510],\n",
              "        [0.8736, 0.3192, 0.8635]], dtype=torch.float64)"
            ]
          },
          "metadata": {
            "tags": []
          },
          "execution_count": 17
        }
      ]
    },
    {
      "cell_type": "code",
      "metadata": {
        "id": "Sjnvm9EbY0CR",
        "colab_type": "code",
        "colab": {
          "base_uri": "https://localhost:8080/",
          "height": 84
        },
        "outputId": "2ff5115f-23a0-4a9d-c48b-dcf37278e0a4"
      },
      "source": [
        "#going back to numpy array\n",
        "b.numpy()"
      ],
      "execution_count": 19,
      "outputs": [
        {
          "output_type": "execute_result",
          "data": {
            "text/plain": [
              "array([[0.57113816, 0.91030763, 0.24195849],\n",
              "       [0.5843681 , 0.65368255, 0.06991365],\n",
              "       [0.75448944, 0.90180075, 0.95096476],\n",
              "       [0.87362536, 0.31923205, 0.86346829]])"
            ]
          },
          "metadata": {
            "tags": []
          },
          "execution_count": 19
        }
      ]
    },
    {
      "cell_type": "code",
      "metadata": {
        "id": "kZ504aR2Y3rh",
        "colab_type": "code",
        "colab": {
          "base_uri": "https://localhost:8080/",
          "height": 84
        },
        "outputId": "a8805919-3895-480b-9bde-560b49714a68"
      },
      "source": [
        "# Multiply PyTorch Tensor by 2, in place\n",
        "b.mul_(2)"
      ],
      "execution_count": 20,
      "outputs": [
        {
          "output_type": "execute_result",
          "data": {
            "text/plain": [
              "tensor([[1.1423, 1.8206, 0.4839],\n",
              "        [1.1687, 1.3074, 0.1398],\n",
              "        [1.5090, 1.8036, 1.9019],\n",
              "        [1.7473, 0.6385, 1.7269]], dtype=torch.float64)"
            ]
          },
          "metadata": {
            "tags": []
          },
          "execution_count": 20
        }
      ]
    },
    {
      "cell_type": "code",
      "metadata": {
        "id": "osIE_ZKnZriI",
        "colab_type": "code",
        "colab": {
          "base_uri": "https://localhost:8080/",
          "height": 84
        },
        "outputId": "c7a349e0-d802-4582-bfdc-8afc1488e2fa"
      },
      "source": [
        "a"
      ],
      "execution_count": 21,
      "outputs": [
        {
          "output_type": "execute_result",
          "data": {
            "text/plain": [
              "array([[1.14227632, 1.82061526, 0.48391699],\n",
              "       [1.1687362 , 1.3073651 , 0.1398273 ],\n",
              "       [1.50897888, 1.8036015 , 1.90192952],\n",
              "       [1.74725072, 0.6384641 , 1.72693658]])"
            ]
          },
          "metadata": {
            "tags": []
          },
          "execution_count": 21
        }
      ]
    },
    {
      "cell_type": "code",
      "metadata": {
        "id": "gVkBmlbSZ12g",
        "colab_type": "code",
        "colab": {}
      },
      "source": [
        ""
      ],
      "execution_count": 0,
      "outputs": []
    }
  ]
}