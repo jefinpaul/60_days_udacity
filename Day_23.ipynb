{
  "nbformat": 4,
  "nbformat_minor": 0,
  "metadata": {
    "colab": {
      "name": "Day 23.ipynb",
      "provenance": []
    },
    "kernelspec": {
      "name": "python3",
      "display_name": "Python 3"
    }
  },
  "cells": [
    {
      "cell_type": "code",
      "metadata": {
        "id": "MFQ-GV-1ehJd",
        "colab_type": "code",
        "colab": {}
      },
      "source": [
        "import torch"
      ],
      "execution_count": 0,
      "outputs": []
    },
    {
      "cell_type": "code",
      "metadata": {
        "id": "hM40kfUCes9W",
        "colab_type": "code",
        "colab": {}
      },
      "source": [
        "dd= [[1,2,3],[4,5,6],[7,8,9]]"
      ],
      "execution_count": 0,
      "outputs": []
    },
    {
      "cell_type": "code",
      "metadata": {
        "id": "UXRfRwtge7UH",
        "colab_type": "code",
        "colab": {
          "base_uri": "https://localhost:8080/",
          "height": 35
        },
        "outputId": "87b5de61-9ee2-453c-db67-608f3ba27efb"
      },
      "source": [
        "dd[0]"
      ],
      "execution_count": 3,
      "outputs": [
        {
          "output_type": "execute_result",
          "data": {
            "text/plain": [
              "[1, 2, 3]"
            ]
          },
          "metadata": {
            "tags": []
          },
          "execution_count": 3
        }
      ]
    },
    {
      "cell_type": "code",
      "metadata": {
        "id": "Xmi0yxQ7e8oj",
        "colab_type": "code",
        "colab": {
          "base_uri": "https://localhost:8080/",
          "height": 35
        },
        "outputId": "c9ce38bd-65aa-405e-f323-e6899077f71b"
      },
      "source": [
        "dd[1]"
      ],
      "execution_count": 4,
      "outputs": [
        {
          "output_type": "execute_result",
          "data": {
            "text/plain": [
              "[4, 5, 6]"
            ]
          },
          "metadata": {
            "tags": []
          },
          "execution_count": 4
        }
      ]
    },
    {
      "cell_type": "code",
      "metadata": {
        "id": "AT-ROPSqe-pd",
        "colab_type": "code",
        "colab": {
          "base_uri": "https://localhost:8080/",
          "height": 35
        },
        "outputId": "d7fc6d70-6758-474f-8aba-eeac21ec628e"
      },
      "source": [
        "dd[2][2]"
      ],
      "execution_count": 6,
      "outputs": [
        {
          "output_type": "execute_result",
          "data": {
            "text/plain": [
              "9"
            ]
          },
          "metadata": {
            "tags": []
          },
          "execution_count": 6
        }
      ]
    },
    {
      "cell_type": "code",
      "metadata": {
        "id": "F9C1L7fqfDIT",
        "colab_type": "code",
        "colab": {
          "base_uri": "https://localhost:8080/",
          "height": 35
        },
        "outputId": "18764d4c-ff51-4563-8cc1-189e7a0f7eb8"
      },
      "source": [
        "dd[2][0]"
      ],
      "execution_count": 7,
      "outputs": [
        {
          "output_type": "execute_result",
          "data": {
            "text/plain": [
              "7"
            ]
          },
          "metadata": {
            "tags": []
          },
          "execution_count": 7
        }
      ]
    },
    {
      "cell_type": "code",
      "metadata": {
        "id": "26xuzQwmfJXt",
        "colab_type": "code",
        "colab": {}
      },
      "source": [
        ""
      ],
      "execution_count": 0,
      "outputs": []
    },
    {
      "cell_type": "markdown",
      "metadata": {
        "id": "Jb7yWXoMfNhf",
        "colab_type": "text"
      },
      "source": [
        "Shape:\n",
        "<br />Length of each axis determines the shape <br />Shapes also determines the tensors rank\n",
        "<br /> importance: We need to reshape and have the ability when it needs it![image.png](data:image/png;base64,iVBORw0KGgoAAAANSUhEUgAAAl8AAACeCAYAAAAMlG8lAAAgAElEQVR4Ae2dDZarIAyFuy4X5Hq6GjfTxTAnwMUAAaG1f9P7zplXazEkX0KMSO3F8R8JkAAJkAAJkAAJkMDLCFxe1hM7IgESIAESIAESIAEScCy+GAQkQAIkQAIkQAIk8EICLL5eCJtdkQAJkAAJkAAJkACLL8YACZAACZAACZAACbyQAIuvF8JmVyRAAiRAAiRAAiTwv4qvbXWXy8Ut1xs9SwIk8A4CHIMnUb+563Jxl8vqtpMkUgwJkMDnEHi8+Lpd3XKRJFH8LYtbtxcXQQ8k/tttc+uyKDsWt14392ILPicyqAkJ3EPggTF4T3f/9xi7+LpdQ476jxeY/9m2/xuntOxeAucVX1JsrWv8U0XM+sLrtjsTPwb95bK4xdtwj/6bW6UAXa4s2O6Nxn913I/Gw51j8Lmu/0ZfsPh6bkxQOgm8l8B5xVdVZMWEd1ncy+4C3pn4pfhaylmuNKM3qv83Jvj3Bt//7v1H4+HOMfjcWPhGX9jF13M5UToJkMCrCDyx+HJuW8OtyKoue5Z1pyZ+JL+LG9P/GxP8sxxBuc79aDycOgbPiqNv9AXyD9d8nRUFlEMCn0TgicUXkkc5c3Rzt211i19MinVisr7KWF0VE7kUP/6YtK6s3z5bD+HXckk/q5tbgtbSv3Yfisxq3VtWtd3cti7Z+rhlMXSatdnd3HZdC7lXY5Fu3e7SWpendBCdg12Lu6Y7yPFk1pvVVDIq38ERt6tbUxw0fOpxD7JzT4ytYc77RcfvxIMaE9HvMgbzcd7yb9lOxmq77Vis7/p0x6bSdT/COYdZb2MJQZBX57RSr+bYyjqKb26bu6ZxJksXJC8g/xTFl6XzO8Zar08rl4+MH8s2j+i+3FXlnUqvWu6yWLnTchr3kcBjBJ5UfElQx5N2kcCwvkoKj+u2uW3bT8BZ0SR2xcEoiUxOZHLMqgqYVvt9/0CR0OSHY4vkZ7W/BTv8Fw+SXZsq9pBIZU3Z1W1idyqYikQ+aTNOLpncpZDp0L8kdqzN2wvBJSsSFXdf7MZ1cCLzjuIr+a5YS7fgZON9uhePu+8AGrofs3tmbI1xjjr/XDzAV2XsHI/ZGZ9N+QAq9XyBIqsZ/+XYj7GY5TTE5+DYgl7pFXkmFF2ybja/MC10sAqUMme8YKzN5uYh31m23Zu7Bs4ZQzolP3GDBM4lcF7xlWalMJt1cXJSr+azbpu7VTtjAsqSmk7kRTGBpNloH07g8u3FcBVdXfAMMMRJ4VIm5uaxDRv8hXQoHitRsEN/gERaziqhbWazdTKoFWzbgsRf8G3pUItu72nISLqUjwQx7ZNJiAl2T4utMc45jB+Nh4bfm7NJwz67xwfwSMsXKJzyAseflKWAuRRLDmKM6gsExGedJxpjCyrFVxyvZcpH2F89aiLyzdo3mO8yisfvnDHWGn3afh70nWFbskHnSM+uwXdYr0GdCn/xLQmcReC84quaUZFHTYyqaSdBXF1licaLPGq/xWfkFEXFsDp4fEaelPuHHyT4eCvhdru5/S8WiLqgMhJQ6NeyGftkVqqqaKO6aGPbguSWMW7q0CeQfdqSgcRfBYelZ9w3yi5TAG8suXthn9ntD7HaY1+PM/rD64/GQ8vvaQbDjkNQC6/grdti34wPILXli73I2cMx9CNfwPHP2do/iAWRzinQSeuJPnfZdYyhTe/4xmcWX2ufdPHMsdbq0/QzbDnwXSUTx03wrWS0WEP2gU44nK8kcDKB84ovlaScrLPyM2H2oHF+bc7VXf30eHg8RXhWWNF+eCBFKrF9WmujdRoGB911kh05uJXgIW+fEUz6Ybbw7uIrJNi0bkoK4PJbm0cLv8FMs2pyH+GQ+6I+8UQeuj9/CJKhjoFJdlHObXtCbOn1aSbnks2PxkMzdiz/gpms+xrw2bQPIL/li71ASXHqC5Yw9v2FiRqbfkZMvT/8UoU1tqCSf+3oZRYxjYuGJvMo/xljrdlnw88jvqtk9vjsLLJZx0oGgBt6jeiEw/lKAicTeE7xpabNU1KD4rLYHkVH9apPvPvgqmQcJibMfBW3DaBD8xUDdPY4EdhKFPt+WUS7z3qpba3PTPJQx8nJKxVh2S3LvX9zbiz2N5bAVIdHm007oj4zJwRZBDvI7mmxFe1tcy6BtLjv+0dt8usdq3vniNVizBzquff/lHho+r2h70w+OLSt9AHe92yOeqGoEv31dhpLQUaei3py9/yVjS2o5F97x7d5VfHQZB7lP2msVXp4mxp6R7u746eyo8enwbeSAeBtvbo64XC+ksDJBJ5WfKViJPt5DAyA8un32F+cSGYHUtY+DtyUPI/IQYd7Ci+R3UoUkFvY1lIns0E3GpMj3/DxM2sp4faPe/ltR3BK+sFGS09rH9qXr2j7pNgquqs5Fw1gJ07k6WPo+U/jYSp+wWLQZ4lh2Dj2AQ5ojc0ox68rDLNdYb0X1kuE43yoervK2XDob/vSHFtQyb/2jm98ZvG19nn50e7Tx9pe+OTFqHTa0DuzO3x7Pc9Tlsy+LJNvk0Vfltc8Htsulgsj+JYEHiDwxOJr/8r9PvZbSRCL44skNjuQyvZY85AVgBYtDEwpvMz5AOugYh9kFDb0ZgFFgp/RUaJKG9JHbfmpid+oE276Vk85e5JuDxcnlaYOeU/dd00ZtX5Bjm2fmWDRccbuybGFPtNryw40sO2RT8dtsk5Ix/LRIrzWej41Hpp+t3hM+iw3bL/g2RNM1SLssPpWTWOekLEv67y0OBRj3mdVIb3nuKoIaY0t1a1s2r4Ij1bxxUmZuyy+1j7fT+370L3N491xaa3xtfnIIIq2lRfXTRa2zbk7WrzyVnxHAmcQeGrxhcGkryTSYIqPXLimRy7ImqiicJkdSEZ7JJR0K8GgBp3k+Tr7TySp7f0ZC8bR+65cjjwaIb+C9tP06zU9YgPP9skSt2FD6MFIHnF9SnrMhLr1mLr2ByNR5V+HD8m9+CaUtG/qAFtxW7co2vBxV0YrwRn2eXm77mInHk9isQN/8DgttoY5awD7iTXE1X+OB2V3M3Zs/w777E4fQDP0U/tCWkTdFnn8Sh7TIX+s/pZ+Nk4hGDOcsoRCfemoObbScXEjFn4+N2SPXVniIycGcmKT+fPGWjtHGH4e9Z1pxz7+h/iaMpSPcY4Z1an0F9+TwEkEnlt8IallCe2WP1BQHqi4yZXec4ov4YQHhdrJE8licEF8Fzxm8IKsvL/6QaFyIqi+pTiaPLwegzJjWylY9Jqo8Kw1Y6avqQOMR0LMT1T41L82ZcyeEETaqJ3Piq3R/jMCYWYmPUS2LHIHZTY5Im71yXlQplczsDonHpTdU/oG36KQDgVLKx/M2Kb0SZu9sbnPRlYXaao4yi9okuBQvI2OLX0YtmUWR8eJXJjeULxr/zYujJrMnzjWmn0+EJc9maN8ezI8Y/B8NJ7gPL6SwH0EHi++7uuXR5EACZAACZAACZDATxJg8fWTbqfRJEACJEACJEAC7yLA4utd5NkvCZAACZAACZDATxJg8fWTbqfRJEACJEACJEAC7yLA4utd5NkvCZAACZAACZDATxJg8fWTbqfRJEACJEACJEAC7yLA4utd5NkvCZAACZAACZDATxJg8fWTbqfRJEACJEACJEAC7yLA4utd5NkvCZAACZAACZDATxJg8fWTbqfRJEACJEACJEAC7yLA4utd5NkvCZAACZAACZDATxJg8SVub/4e2LNjIvy+GH6E97JenfFLi89Woi//bWz6an30pxYza99HG6GU+2bdlRncbBGwfo+x1Zb7P56ANV6tfT1DZtv3ZN372SfocK/uA8c9Xnzhh2fbvzo7oMabm7zJybfr4nzhtVzdtl3dlcXXcCCAXf7j5cOHP7ehFU/WvudqcZ70b9b9PApvlfTceLeLr+f2+Vac/6Zz00fWeLX29SjMtu/JuvezT9DhXt0Hjvuh4mtz6+XiLosxu/QWJ9sJb8Bnr23yFjbHJppJ5/iwgxadGDk4MvvYYmbtyw764DffrPsHY51R7TnxDg3sXPTcPtE3Xx8hYPrIGq/Wvl7Hs+17su797BN0uFf3geNYfAmktzg5JjyrGBxw3MuavIXNy6wrOmLxVQAJb38qBkwC/3ynXXz9c6P/r3nWeLX29QjMtu/JuvezT9DhXt0HjmPxJZDe4mQWXwPx+eImLL5M4G8ZH6Ym3PkUAiy+noL1XUKt8Wrt6+k3274n697PPkGHe3UfOO6FxVdYXL7Irb/4tyyr28oV5hG4LCG7bavb2y9uvZaNo4W3q1uXXS7k+9d1c9va/sxLUE72fSZZnT5NuDe3XbXOcptzcWthZEuf/rK5QX7uFrglG8T2nh03d13j2jPvl8Ut67Yv/D+FzaBOsa/q1jDWFepZQqXX7oqa/yLr6fYGza2WTy6ZUwZ9YOlm7XP36+sNiTIzFf0HrZPpnf0p3cfHR92XNRaaFz6Wz6P3gq8WZ6YDxaTKHxiHWb5ojY3BmBWden0WSiLOap/tcsx1jMoHEcNUv+mY25aPd5+DG/Fi9ekFHeSM2GZbF5W/L87M93ePgfv8IzqF88PirlliGBzbCSQ2xvSY8/uYTK+B5aODfeUYzvI9zLJk+M/u5QTBD9oGHQbOs75ptEPGW5UPirEJDV2WH4rawRy46cipjRcVXxjccmKXxeWbKlKKJBphSaKWQSIDdlWDuEpMqf3qroXc9bqF4u62+QXtvpBbYjtpi1oOMlRR2O3TRAwbY8G1Fnprp0V9fMGo9LlBn0o+ZB/zS2sAkty9MK3YuTjTI3Z7zmsqYlPbE9jM6GQlKfNkG/VKevpzVxgoWYwtRXxVbOOOoxhx4z7AyVjrZu2DrXfpK2pHBjq0gjXQdc0Kz7v7m44B9D8yFq7hBF0akfrMbXDwgy7EtU9xHPJHHIe4IFtw8o3xjou7zFfOuZmYhR+GchaKytLeFL+NeI12ZXqWth7lSmO8L9lFWsHa6tOQgQvfXTf4/zhf3RuTd/knXVxKntPF17i+OtRke1iPCb8PyxQFLB919qVxUMR/fpHZkIuxdzn2a8kJ7x+2LekwkFsUn6GxmbXv1BMw5sHXlxRfAF7lGysgkVAuRRJC2yLphsFbJI3Ydk8GnurhgnuZIcqK4UafFnPYWAVxSlaFbARRYU9P9hC/2+bqIs6+nQadc06SUaRYjZpM+sPSX+SN6uQSr+hTK5FIJ9X+mEAHeJo6+p02J/kIrIZ8UOn2JH1jP5VOiK2LHhcP8In9jI4PsBobCzjxaV3FvRd3kcLpcnGZfebYVh5t6Jp0kgs6PchbY3wmZht9yhV0uODTX/Kx7U1x34rf2Eem+1S/ewxnMlRsX7J4sWK2LUPnDLDO/BYGUVFoPxCTZ/gnhs24virOsDmsx4Tfh2XaPqpz496uGsMp3xbnJyPeHuI0zWvXWccrdBjLLbuMym5zbMa8U46Do5wD2yZfX1B8YYDJLcabu2V/W5hp0QnHcHqwyQpeyNbJTVrHk2g2+tsnVjNYfadWnxbhfjsEjA6iwyv41A1sHOSXjtMbln7WPn1M3J7yh3F8c1enf5xU4sm3ug0pMiu9IE+uaJtTiE1twgetGImy4y2au2L4GfpGmVmYe0PAQhc02HcHn0p3YIRMqx+9D+3tkzfGx25HkLtcN3eVmZn9g1gEFyeKXbwRF/FDJFslK3xi2aAF6u1G2yk+NoM6nnW/Vrw39vnDLD2tfeij8VllV6MdxOi+h8YK5N0Rk1mfeAN5RexVdqC9vMZjhvTVx/W2bT3qOO/5sJRvyzTjxrLX2he7gF7Z+alq/wxOsHHUtka7KTt6fcLGkXoCcu5/fUHxFU9o8ZYepj2z17uLr0alWgWOAGqdWHsDoO/sHXtHtu96DesMssTfcvQuNWxN8vMHyX11eW6Y3PoMf+H2ik5KBzpDDZOlfDjKBoJGdEJb+DWsV9MTFamFpZe+Vy9r7a5q7Vo6sLfRYjLpA0s3a9+j+kaZWVh58xq+ubc/S/dmPy2GkXuUpQsqzBCl5O8LpVBg+RODyg9+Rky9r7zZ1DXqVcFqsIr2HY+je/JHzSjM4E8WlU1bLZvqPnd2VnvLrp4MSIttRvP9vTF5in9EyKS+MDN7HcxtxgVA2++DMq0YGN0HG4ban8EJHd5r20H8RTuy3GLZ5tWwYz74Q58nrXEAOx57fV3xJQufs1kvNQumbZiEhcpf1iyVa77yk3bHcbN9an39dke2fG4FBYqX3omkkD3KD+tYsgLXJ0MdVAc6w8aH2QT7x3RCpxgYYQ1Xdb5UTNMJG4dKWbjt69yq6WbVrt5sMdn3j/pA2Ge6NTk+oG+UWfMBP+3v3dppPk3drX52Vub8Y5SVJchyLEgbjAvfHkVJkJ1x3c0KW01do14VLMuGyZht9tmQ7cXrC4uWbso4qw9rnz/E6rfnF6v9nrd23j0Z0HVvMzRW4mH3xORwTmlyks7v0xfWSm4f1gNxnpa3xL7LmJyRadk2ug9GDLV/kJPqa5hXpdeuw3BuqWRAkX7MH9cTkHP/6wuKr4aRLZ2nYEXZsnhQLRy1v1XTcdxUn5bifRvNaV0MRJxkLLF+X192fhjalt+wxH59Mo48yvvbucBUOO4JGA0smfhMv6LdiE7hOPCSmSv/YFxLx6bP9r7l2y2+AC2T296k2GrFCGzQ/IpD9VtLN2ufPsYXjZP6NmWO6TvMZ6qfft/wbRlPYX8osvzVZ/JZ8Il/6/VAIVbAw9umrtG3SS4OsPTFvsGYbfYJOUbc6GPidqUaVJRX3R77rX3+M6tfax8ENT6r5HfGI0Qhr1ljNrVpb4zFJPR91D+iB2QZPmqrGT/BsYN6yFGaadzO/T4pU8uDvqP7YEX8pZVMj0oG9LqHExSDjEFekzqYuaWSUeqi7Yn6DdUTkHP/6wuKr8YaB+jsZ8PwpghOtdseJCEZyFdlj//B8Rp2PGrKQXZPYbqymO2QpjckrPKkAUeX95dr+WZQoVnGL/ZVFXRxbV2REHs6p3VTD7OZ0wm3oPKZj3zdjze9qRfAyGvseyg+pH07RsZ90IjhZ+gbZeazSPt4qxZQazR+e5BPU3ebVy+uQjFdjgVBHxany2NZZJ2XdhmKMe+DKrYLo5q6tmy1bJiM2Waflmzoiz5kWYDMghl5CU3l1erD2uePsfu1/RIeHRBmyQsdDPm2jJDnkDOmxoq20W+3/KQbgl2ZO+08Z7JT4u7Xd1IPbd8iy0Isv0/KNHxk2hvb1XcCYn9pNi6CMeTezwmwH7etF39mbjHsCNpYYyToN1ZPwKb7X88rvmSNjVpjFLax5gYOvvhHTfjbg35NUnychL4/OAULAMPtqXSbbVn8IyqQDIAHjguPVZCvy8aibapPSCtfdxv984w8CzxTxijKcKI/Opn4bnbZ8liCHj/YiMcXXLPnoRTJFWsQ5JZk/OpxmkE8kc24TvBnfnLG8VApIAmzRGkGJa4Tgt3yW5mwJTuudFvxHn1VMYJCTm4nHvigl/zO1Re8dv+FRwdI/BeJ/RE+0+Njj9exsSBOiLbI2C1OBCHph9ntxK/wW3rb1DXqVAUDGOZjA3GAeOqOo2aftmzoipPZ0Oys1Ye1zwtv9KvGe3iED26ZGfEiciz5SkYzZ4yOlQdi8hz/wBN7vB6ObRwSX6f0KI5p+X1KpuWj5j74GY9wgv+N85MlY9SvBSP99mHblA5DucW0QzSyxgj2jdUT2q57ts8rvswFljqh1Q9nk8FbFkjmgPeWAYyWiav8sLjaPz9sk4cI7kGV51pcGQW4KZFPOaiHOTx8UN/TliRX2ajtGSq+5IBBfhJUeJaR90mY4g1Bn7MLagiTvUiUK6PsoXunsBnTCSej5BegTglf6V/pNcoHQluvjRgJsFz54MjhGH6WvvLQTOU/3HKv/f0An0p3sLPHZPh0ZizEI9QPzWdrOpL/8xkxaJG9NnWdK758ch4dR80+e3xkSIfZvno2IrMovLH6sPb51p1+ZSZeL9GQ5y7epM4qinWR05LvZXRyRtTheKw8EJMzea5lRyAb/79Xl7HclnUV9Wn7fUKmZVtzX7iovWUX5I2HDFsyhv2aWVu8edC2qIOc44bOsx07/DepixnncA4arScK0ybfPl58TXZ4avMmWJXY8urr1O4pjARIgATuJxALwuELsPt74pEkQAIHBF5cT3x18YWZErO+6oE88AE/JgESIIGnE2COejpidkACowReXU98dfGlp+2xNkNuPe5Tkuo21agH2I4ESIAEnk4Atwbz9Y1P75YdkAAJ2ATUMoBX1BPfXXwJwmr9gaxdKNYt2ai5lwRIgATeQwCJnrcc38OfvZKAReCF9cT3F18WQO4jARIgARIgARIggQ8lwOLrQx1DtUiABEiABEiABP4nARZf/9OvtIoESIAESIAESOBDCbD4+lDHUC0SIAESIAESIIH/SYDF1//0K60iARIgARIgARL4UAIsvj7UMVSLBEiABEiABEjgfxJg8fU//UqrSIAESIAESIAEPpTAc4svPsH5Q91OtUiABEiABEiABN5FgMVXhzx+bqD6oefOMfyIBEiABEiABEiABHoETii+Oj8O++UzXyy+eqHDz0iABEiABEiABO4hwOLrHmo8hgRIgARIgARIgATuJMDi605wPIwESIAESIAESIAE7iHwUPG1rfIj1sbfugVd1G3H27a6ZUHbxa3XW0Pfm9vWxS1K7rKsbms1T1JuLu8j/MB21U/U6VL+oK31Q7dK/9SNu7ntuhb6XV20eG/GLRIgARIgARIgARIwCDxUfLnb5rbtGgqRZXXXTd5ve6GEQicWUlJEraqwqhey39zVF2iLW9ZrkJUKncU16zXnXFqflfS4ujUWe2U/KBpRIwqXsK/owyi+cGym31IcZ4DmLhIgARIgARIgARIQAo8VX57h8YL7y6UoTqxZJlVA6aLId4H21QfKibfN3arZsZZucf9lDTNWRpEVTFv9zN5evMXisJw1U2pwkwRIgARIgARIgAR6BF5SfO3FC1TBDFcsfvxuFDZyi/HmbtnfFmaxposeq5+oA2bl1tWtMjNnya6KMshb3PX4PiiM5SsJkAAJkAAJkAAJJAIfVHxhNgrrwoxXq0BKpsiGrPu6uqsUVPEvrB3TRd5+AG4hVjNzaFIVX356Lt3OvCyydm1z1YQbjucrCZAACZAACZAACRQEPq/4Wq7GzFecCSuUz97Kgn61SD//IoBVfGEWKxR55h1Nq/iKnUqRhzVlzeItU5BvSIAESIAESIAESOBFa76mbjtiHdaUd1BILW7Nbgdif118YYG+zFz5245Wv53iC+rJNyx9oWdWb2jFVxIgARIgARIgARIIBE6Y+WoXOK5ZvNjHoCCqizW53SezXy23dRbW+288FsUXFvDjNmargGrqr/WIfbP40lC4TQIkQAIkQAIk0CBwQvGFxzTIovX4KAkUIs3ixS6+nMMs1MU/aiI8ukLWcC3Ftw5ra7B+C4+AuKZHVMhtRV18oe/8G5g4Hqr7Hkr9fdGmHoOhbj1mx9XqcQ8JkAAJkAAJkAAJeAKnFF++aEoPUL24NHNVFi8JOgogXRThw/ohq1LUHX+78JaKtLDeK9yCDEXV3k9zdg2zYbpQq/S/VzfYxlcSIAESIAESIIFfJ3BS8fXrGGk/CZAACZAACZAACYwRYPE1xomtSIAESIAESIAESOAUAiy+TsFIISRAAiRAAiRAAiQwRoDF1xgntiIBEiABEiABEiCBUwiw+DoFI4WQAAmQAAmQAAmQwBgBFl9jnNiKBEiABEiABEiABE4hwOLrFIwUQgIkQAIkQAIkQAJjBFh8jXFiKxIgARIgARIgARI4hQCLr1MwUggJkAAJkAAJkAAJjBFg8TXGia1IgARIgARIgARI4BQCLL5OwUghJEACJEACJEACJDBG4MnFV/gtxPBbixd3Wa/u1tVrtn1X2G9+WP0e5Qdg+ESdjrC8Tef/PgZ6v+t65JT/+vk/YvK2cRNj49393xOib9F5Ns/Mtr8HxG8d83jxhR+kXreKHH7E+rJc3bZd3fWg+Gq1x/70g91VT9+743Tb3jKQD/h/ok4HKrs36Yx4GB4zt82ty+LSBc5lcet1O7jIOTL+mZ//o0LjNEzvY4J4Oy23vmncJFe8u/+kyMTGG3SG34fzzDXmmMFz+YT1P9v0icXXbEJpt0egnJYgkrs3t14uTgKwPyOXDjh943Tb3jCQD6F8ok5e6Y7/36JzewyYjKOOl8vilnV166qKMONiyJTx8p2TNr5cv3d0+D4m/y7/vGXcjsTMJ+Wa2XibbT/Cg22eX3wNFzbRwcPtz3BeZ0CcIf4dMj4x+XyiTt43Hf+/Ree5MSAnzqWc5cJM9GV19Vz0OwKy7JOJvCTi3D9i8pZxo4i+u3+lSr75SblmLs+k+HzpuTmn9x/fsfh688zX6UH1icnnE3Xy4D8pIYpCs0nRih6cyBd3fdd0rqVW2gf9PrU4TIq+cOMfMXn3WH93/82o+aRcM5tnZts3IfADReApxde2XtQalH27dSfksL01oOI+kbml2y2Lu6bL/ZvbrqtbpLiKf4vcr47Gt/q8tJT0x93cbVvdsuwy5ZbPWp7lom7V7UzMSugrCMs219dd+a/eVPJyXQ09Z2yKbXtMa2XiHqVT3iYs4sx9tLqtLBri8eIab1PyacsmqWOubs38pHy2bu7Q/0rnMY65Zfu72peXZXFrYWRLn2447p2oLZzIR4qvwXgW6Xf5YHPXNDbl9r74FvodFV81Nz1+d4MHY8gfcMv18bdry/Vxdb+Wv7y4NzDJY1Fi2hgDUa+fzD9q3O4xIluDcXKXTz8h14zF7WyeGWs/1nc5Zkr/XH2+LvKC8od9ns+lfNO7pxRf7rb5Bfb+5Les7rrJ+83dypMqSB21twZU3BcKq7jmZdmLLwTNsspi/y0UYvI5dIh9+hO/0rE4J0JD/5rWR6T2+642p+0AABvMSURBVKAr16Ohf33yDPuUDiLVsA3HNnXPtCreZFwublnCWiAUOKWe99g0rZdhY5rl8SdA5SNfWNmM5CQo/j6yCUzlZO9jLxXhcqLaQnF35P9JjoUX4lsUGlJ4LG6N67KSL3RwHI0Bu4N6L/TWsutWfs+M73emgz5w8Upf/OljsLxoKZJsoePYGABfGf8HMWTog+J8HxOQN+Av0ResR+PS0CG/kOszmfEX+Okw+In885O5ZiJuZ/PMYfuJvtWY0XEZhj7kFGMAYyyeF/zaVnWeL9LGV719TvHlEUSYepani6bT3hpQySnFiXqq785UsKXrzSogWzJw8onBZNkgfVT7Oxwsncp9LS7WrJscO2zTA3pVNsrEVDiJV4MQeuoPJm0KJ5liEEe5+4nWw29/4WKyz9INHi2+IaRt8Q0RG2Xs3sHYJ8dwsZNmmWSGyVKo3Dfs+z1OZaYlXcAEI8PscjHO4d+c9+73S3dN2hgH9FHhNWIIbUt9woViAIM29ex3w1+TMQL5pQ7Y32cyM1bFHuj8Y/nnB3NNip9qICAGijE7vbyhPR6n+47+qVSFTmVeaI2xMpd94fuvL77KRBbTqAtTmDIThqkuyzsxOIsTh9WyvS8GZhk0cgACR2Y8/AyA8a3KKllA3pHuDY0qeWgHuSMnZqst9t2hV6VTlBVvQ91uN7f/yaMTZOZBsaqO79kE2ep43zz6Ohv1Hf9P9Ql99Ct42byRtPL4bemu5ebbkINb635mUGaBemGfiyjeNfSe4tGQ4XvqfQZV0KYXa7HNUAxBnu2L0Gu/DThn/nopE7ApXzt6R/0uv5R/Kp/MxMmeszM/e+QWZ8h+Z66x9NpjxIxbFDo6x+6HGFstO+/oO/onS8NNvj1/GGp+2a5/WnwVa37klk/5rTDvqM7Jt+lIWScjzyyT23nhL9xGshM7pv+rGQPIr5LFqO4QULxa8nyT3kAZtEmvo2oyLfSRt5VOkbufSlZrsfR7nRiq49GHbZM582XK6PjfbC/92n1Co/21I1saRfn5LEuUrW3fBQ5sxTVccYo+m6FqHj3o+ykePdsH+R3G2kwM9fQBmIM2lr9ezcSrOuivaNbP5Z/KJzNxso/LseJLhrHkryL3VzqIMzrxZbaXY0bGSkeu73YNa56zamc2z7Ta39F3tDVTx8dqw9YmG3/QV//3f4uv6BYplLC2oy6ADoKndK0sttcFQrZdDEB/LAIqFBh1wPUGu9wR7OleKhffN4MVuhR6Ttt0h16VTjt3WYC9z3qpbW1edTw+bNvkZ4KMNV95QbLrUU0UzfYJldJrR7a0ifLPLb5i56bspNi+MeP7KR492xs+27XKttpjYO/jOIb2tpWfU28HbSymr2Yy4y9vF1j/UP6pfLL79ThO9nE5Wnylcfy2XLPbZ8a2Fbco6oYv8mIcVe3v6DvqU58LEav1+cnP5ueJO43ab97498UXnCPfEvIn5MzrB8GDg/0rgqP8phr2F0HjJ7DiuqZr7Ke8QhK5VbLIOg09m7rX7fyepjxLT+wbt0n3ajPVLeJ2pRP6rZkZR3cYWXLiPlnkrb7tKIv061txHf9XOkMzq098pl/77c65HaD7U9uIlypZqjZIwPJtuQxMQ+8pHg0ZvvveZ1q/fLuOtRk5nfGXuunLM/31UibQb9Bfv5p/Kp+A23/NNX37zLjF2O/mhzQw9hm4qv0dfVf+QT8NWc32OO57X3+m+ErTvlnx1XC46c/WiTquUSoLKyz6RcDGIMpnOsaKL1t3U8nJQmXSpqrLeHzGtGpk6mQnhXisnw1TcpoD0PJf0Gk50smLt46P/U71qXRVm7jlU11Fy08CmbcGoz6IGSWr3pS21poo+Up9vJXbZTDp+0ke0CG3PXzd318EleOlNrDYU8faTAzZ+sh5ZUvrQnttTH+9lMmkv341/xg+mYmT9sWwlSuCT96da6bj9rTiS1J7yDX5OA/jqjdmyvMgfDR2C7dIDV/69n8WXz7xqK+fq9t35fkIwRO+Di/HtL8nhrb4Wvs1PcJAAlBfWWGg5t8ywfFZF2WymNDdjLlSXmoEnbSeavDEr+o3bXpEL1OneDKRR0es1/g4EllLFx9loKeZzePFMMsm7IsFCG4NL4t/REX5BQz4pPL/VJ8JcrGx26gfNRGKj4urEhbsGS6+YCMeY6Fvi+d+LhTzb2H7cTz3LhLAu+gPJ//0aBDoJn4ox0uh3XCs7XwPY0jpg0dfpJnRNCB3eUP+mo0RpUN4XMoEE++C4O9jf8EnP5h/TJ/sfj2ME/N4iU8w1XGOfRiH8fXluWa3byhuYctQnlG2m+3v7FvycvYImkZeaPqjyBlf+PZ/Fl/GA/XE0eWJN/gLM1cxsemTfuXQ+iGNcssmnMT2QYkqvjq5puS7t62vtOqHAbZ1rxQ0Z5lCKyQK1bf/YMwmST7ykLtszVuTaaFXcwANyuwcbz2YL/CPz/SKz5iTL0hA93Su9Wo2/D/ZZ2Gxehv4om+/fqHJLfrITHJKZNqMDzdUt1d98jW/XJIOUhujvr+j+JJe/I9+7ycmXzTcUPCXcajUmoq1wRhK+oTiPhTA4WIrXysz4a97YuRuJt6AdHEC/Zl/cu/V+RRxNRgnkz79nFwzEbenFl97XI7luJAXZNY+XYTGJSHledR7rukP+PV7Xx8vvr7Xdmr+Hwn0BiuK37z6+o8UaBMJkMCzCTDXPJvwv5bP4utfu/f3jMOso1lf9ZLl76GixSRAAg8QYK55AB4PdSy+GAT/iwBmt/TPFm3hNwbDtHjvdtf/QkFrSIAEnkiAueaJcP+/aBZf/9/Hv2ehX1ezrynA+hj5MkWxQuT32NBiEiCB8wgw15zH8scksfj6MYfTXBIgARIgARIggfcSYPH1Xv7snQRIgARIgARI4McIsPj6MYfTXBIgARIgARIggfcSYPH1Xv7snQRIgARIgARI4McIsPj6MYfTXBIgARIgARIggfcSYPH1Xv7snQRIgARIgARI4McIsPj6MYfTXBIgARIgARIggfcSeG7x9dFPFA+/9YXfl7qs1897BpTFz9p3TwydJeeevu89hjrfS47H/VcC3zgm/qsvvtau1u/+fq1BX6H4zxZf+GmIy3J123Z1VxZfnx+w33iiOUFnxGr1Q+0f6LGn6nq7utX/iPjcrxQ8Vad3++CE+Hq3Cez/3QTq4utjxsy2Ovxg9zfkvxlPnlB8bW69XJwUMdXTwz82MdTBNgPtZW0tfta+pkLf6JumMc5N2d6Rc/pHz+X8MYlwgNuzdIXcMFN9RvHV8dmAnR/T5GPHxMcQoiKHBOrzIcbbewse6HVxMu7fq8shxOkGv118WQXjNMInHmAlVmtfU4XOCWZKTrOD137wsTr/M86v9epBb3sCXq6bu94x82V30PGZfcBn7v3YMfGZuKiVRQBjbO6ixpJ05r5QAC7uel1ZfNlgO0nsYxNDDDYWX991NfGx8fSNY8AezR+31/948eKuflr9zJNEx2cfB6Gj0MeOiY7O/OjDCJw5rs4yLY7PdfvgOx6P2frQzNe2hunAtGhdbj/KnwCTfyox3OTerb9qlTaLW0M2NbQPC+Fxn9dPNy6r28p7mlG2dOVlo++ubFHJ1hkqB4Vubrvu95q9Tcvi1kqJ3cYQI/gx58VdI4LawFvQN7Ho8FD8khxrX/pw32jZebdvFO9tbdk56Duv5kzbaFfT9kFZyobhmEnrjIy4WbdmPN3NeXfhvmXZfY8tu8S4NRiLsa9qaYEvjIolB5aurh5Pi6y1rPQ52nHnSaLQ6XBsdNW4uWuK/zB28x9sH2QqfZzhQ2XbWI4d0w+M8rwYwag+d1SDY3A/QG0dMZWmdQxd7s3JivvjuazWq4pt31+4gMh9dHF57Cgko/YqW4Zy2m3L49efW41xZfl4ti/vNqzTtPOntlhvh/iLM3GWLrrxl24/VHy52+YXq/tCaVnddZP3214oRWgozpZldeu6dBbQIQgWt6yyEH5TRRCufiNpyF5CIXAsOx4XdfYLd5XOt1TcQQc5qSxuXQudy2wEPXzxJ3qvbl3axVe6l5763oOzuqdtBZ21zwq+s31zaCe4DfjOzbRVxpm2T8iCDaMxk9rH2E4FuVw8xDg/m7MyN21adifdJuM/CXVuJhatk3HYZ49LHcs4NhvTMkbSmFNKdTfh68nbIyW/I581dYhX4zLWfS6TsR5OKrB3himKL8kzuMjs50dDMcRBvPg8yoPD+qGwLvOdrxlD0bn7D34ZGfulDcdMpfAKt5tPyskZMytno79je4Zi2/e3uCXzs7q4rxij/wF7YUsmu3WOrVnvEyLiUzWuolzEtffaVF/7xYWMFV8bWPmzDAd5H2Mv9W3pYh33ZfseK768sdGh1i08OOtSJFoM7OIYJIY6Fq+hYNMfTMrO/RKDu+hf2kCHNHORDkTgFra09EjHFRu3ze2FHj5rMLSCztoHMdVrQ660a+nd8E2zfewT3LSL/EeQpz6YaZuZZNg+JWvS5pBYVUISZcrE4BU8kXNmcHxj2N30B3gbsV2JnolFh/g/uBqtdG2PtUqfwx04KRU+OTqu0kkO6PisIQ+xlk4KaOeLufhmhulkPKK77HVWxrB+LdY1N3BRQzyoiFisPtgtwLE9pmhzWk5uMYtqob9K7cqewdhu9ocxlZ9T0P+QvS3Z0FXlAcgtWWP/cPE1eD4fz597PKRCW+mNXFfqrY/6xu2XFF81NGtgI5DlFuPN3bK/LVxhDjnEkl26Bn2V39DsH4sgzeyJwZ/tK7s7fN/o15Jt7WvKrxNlatqUM6FLEgaeI76baZs6CBuVzpOyquMh37IZsssYiUyzzHwiZ6ikXy29rX3+GMsWLexou3N87PMis7t+9qdksxf1+3iAPJkNnp7qKpSFrHcUX3f23fPJGT48Q0aaWcq5It/loV4ufo5c4u2rw7ydeXSEab8NdNzjzYrBrNN04Zkdk5rM2APdDmK76aP9Yn/XBTJzX0C9yt6m7FJO+R4S5dX4zJJr7fNijOMhU5+zfVsrfypdYh/9mFPtv3jzg4qv6JQ4fY5bldmrduRUIJQeisGi5fkmnZOofB77zK5ImnqUfer3su5Cni0mtzTDX1jjVgw4S7a1T4vOtjv2NOVYA2m3fU8SuqMZ38201X1YOkzKmrTZvHIzZZzIuTDZv7X6tPb5xg3/WXJj+6FYjMfjNous29xvOynhll563Zzcyr9u9WNplIj25qxtSWnj21Idn5kKzLR/YHz7vifstHgfyhjUD7Mn6kwY/K99PzkGM7YjTA/aRPuncnKTmSg3ac9IbPf6qz6btLc6HoDLGOrJLdtaubaxrxNr4/kTOkcdVbz5T5o24rjvfP284ksW4mazXmoWTDNuOsQIJH2c345t3lF8qYfGZYWlLzq/vPga8t2eBIb8rH1X+XxSVnU8hDdiJra31izkhceuRzW3M9snVNKvlgxrnz+mYYuWh+2ZWMxkh3VOZY70TZp6yRdj9vWNzeINupmvE7bp402dOj7Tx6btwfYzTE29pMMJO2dlzOiX9ECxFRlkjt+5TI9nFDpVHk7Q92Ko1Sbaf3rxNZTLdj27sd30kVXQ7DyrXCLdlfY2ZZcx1JNbtt37yS62h/uKXKCrseYrz5+hfZrVw3pKTE7E9WxYZ9n+Mtvuj2/Y+qDiywiAHsHZQMhkxb6qAd3XIQWHjpymHlmH8Q3kl9+cxP5vLb4a+lsIUkIvbDXbFjsr1jP9NhKK78KSE/dJIlDfTJUFzfXds05iq3SGTVaf+Kx4tWRY+5q2FPKydoOxqNZDysyVv+2oF+iii6ZeaBC+newvPLKT+P55e2uCmRZi6tTxmT42bXdsTm2g3yBTUy8RBjkDY2RKBuQO6ieqaPlxO3cbZA7omjhhY4apLf+unKxtgirp9RF7GrHd6Q/670z7/aN9Koqasks55ftksB1vllxrnxdjyY77hvJn0AW21ZMS4WIP+5Pt2oQv3D6h+LLARxJTzrLufyuifjZMvZ+UrY7cg60qviTXBEdXDr4hUeAq8MjGvMfwrpXw45q28mRm2Wjts7ry+87zTZaEjf4wcCpu0rbw3UzbrCvD9ilZxvFBvsUp+Eq+Cn78zzo+HjXVZ6MnS4a1zx/e0SUTPxmLuAWFMRP7z2YcRH5TL9157HuIrT5u1DZ9TEuneVm93BDWs00ybbKa0G1KxqR+HuN+zNXnxroImhqDlWva+RZrBHvcw0XAZE5uMgvKPWJPum2pYzv2V8/2RrbFLfwpe5u21DFkyw2PCAmFjfKtJdfa55HVfYHDWP4sgqJ82+y3bPhd708ovvaCJUwLytdz6+d85VgsZ0kLBKM8/+QaH10ha6PiV7GHZpxasrUGsQ1OJPojpYN+1ESz6p4MjDQA4qM05Om9+zPNVPB7HOXi1taJJDMge4P+HvbNoZ0TvlOMD/2srTF1mOjXPF46sGIG+/KrLokJmf3CiQHqncYZAvWrpbe1zx8DvYtY0vLiNnTGIyDasQiZ+UkOx2O4e7GlXr5oU1/ZV7ces+MM/cIuOTmUayPj4wFk/8j6sVKnwv5qbLR0QQHqv2wQdcKsaDQGTI6Z9sYyeB/7sF3s2jKm9Cs5id2m0ybGYMl2gKk+L5ySkxvxsKs2aM9obMf+0jnE31ZrPQ5CtNj7P7S3aYvhf8U6PJIE5x7JaZLnVLxZcq19HprRV8qpY/lzZ29sNfs12n7RrlOKLx8sSEL6N5ia0CxngVr9sD5JjuXJbjbpQHp4jf2bxZe0CA/924uii3nC9bKaNuY97u/qBwrKw1tDUlTBLwdYsq19u3BjC7NqxRVmU07DN832ustB3/lDZtrGPpo6DMrqHG/9bE24Ao7P9IrPsJMvSSAu8vPQSZw1Tmxbelv7IlfLFojKX8disTkTkJK5ittKr0Hf5Iqpd+pEZH4ZR/Wtjso2K53wacNn+Nh6lRlwrEHx+oSLzX19zhhTL7qpV2MMWvpMy5jQD/3FPuqZGzSQ1wf8fMg0yJeLcIw9KWSsiyCvUZNJ1Pfoc99sxJ6RNnkev2UX2+Xt36hf7H/I3qYtjRjyrPeCyF8k3DCBosaSJdfaB13L4k0i4iqTJqP5U9tebDf7Ldp92duTiq8vs5rqksARgd6AR9GRV19HEvk5CZDALxLo5ZL/yqNnM/On9zqLr/8a/LTrIQKY7THrq15ieahXHkwCJPDvCPxgvmD+PI5iFl/HjNjiFwng6uyi1yuF30ULtz7UFP0v8qHNJEACYwR+sPjCL4HIbUesf5SfC9xvpTJ/svgaGz5s9YsEqrUoslaiXOPzi2BoMwmQwDCBXyy+BA7zZzdEWHx18fBDEiABEiABEiABEjiXAIuvc3lSGgmQAAmQAAmQAAl0CbD46uLhhyRAAiRAAiRAAiRwLgEWX+fypDQSIAESIAESIAES6BJg8dXFww9JgARIgARIgARI4FwCLL7O5UlpJEACJEACJEACJNAlwOKri4cfkgAJkAAJkAAJkMC5BB4vvr7xGSZv0zn8Fhh+YPWyXt3+m3DnOpbSSIAESIAESIAEPpMAi68X+gU/uXBZrm7bru76wuILfS/X88q9W/UQvfAjquf18ELnsCsSIAESIAESeBGBf1x8bW69XJwUOlUx8JaZr8avzL/I0WcXX5AXnvi+unWVX7CXJ8Bf3MX8QcQXGcpuSIAESIAESODDCbD4epmDYvFlFYMv0+G8jqT4Wq5bXtiq30M8cYLtPKUpiQRIgARIgAQ+gACLr5c54X8VXzY2zO5dHCe/bELcSwIkQAIkQAJPLL7C4vIFt6IuF7csq9vKe4DxFqCcrG/b6vb2sn6obBwddru6dYm3uJR83PLa1vZnXoK67ej7TLI6fZqxcnPbVesstzkXtxZGtvRpFyi3wCLpFX7QueIR7ahurWIGSs+yKZt3U2r9F1mPtjeY3ELxtbiW6yYFsjkJkAAJkAAJ/DsCTyq+9pPwssri8k0VKcWJORUQYc2QFGiyfghFWLVAPLVf3bWQu163UNzdNr+g3ctYYjtpi1oOMmLhdtin6XbYGAuutdBbV1ZRH18wKn1u0KeQj/VUope3cduLzZIHCjvdXdhnc9bH49jMR0txXKFb/21cZ3dZHyjg+j3wUxIgARIgARL4dgJPKb5QPOiCwIPCjIz+IBVCxUkfbfXsjXMuFAzFyT221YWFc8cL7mWxeDZD0+jTcjJsrBeXowApZLtYrBX2WLLdbXN1YdayB/1FJpFnzsKD84vh9/0T+phK1jvbTOq23EMCJEACJEACv0rgCcUXTupyi/HmbtnfFm4X6gKkVSygWMlmUSC7/AZjLEB0UTdQfO2FCNwf5Wd94jP92m+HIiSX39Jdy+1td/pEASuzbzKbp/lCZMUZ8hZ3TVOCaHzHKwrXQ3Z3yOYhJEACJEACJPCPCDyh+MJMTGPdVVkcVEUB6KI4yGe5zJkvU0ZrpsiaBer3iU/3145saZSKIb16arb4knVf8iwwuZ0Z/sKt2JwHdMItxGo2b29QzHw55/TaOVmrVn57EccevsLn5Wzf4YFsQAIkQAIkQAI/R+B5xZcs3M5mvdQsmMZsFk7SwC6+UmGD9VBpwXt54u8USLN9an39dke2fP5o8ZV98aAsYq3iC6xC22wCELo3bZYvOuxryprFG+RUr3vfZr9Ve+4gARIgARIggd8m8ITiCydjq0gwYDeLAktO3CeL8tU3Ac1vUX7tbUfYXX5rEvtrrrjNKTNX/rajdeuvyXn3iXzzE98Y3ff2tqATHy3Ro8TPSIAESIAESEATeELxJXez4jcXs9XssVs/G6ZUaBYFOLHrYiMUF8vQFIt1fOx3qk+lq9rEbb58XZdM2KEAKmfioj7Weiwlt/1FgbheriyssNYKclsFVNNm3XnUfYqvFF6Nr21q0dwmARIgARIgARLwBJ5SfKUCQp7ttV7T4xKu8SdosoKlWRRYxRP2FbfilsU/Q6xcOI4C6YLHV6ComOqzFSkosvJHTeAndjIbvYjR4gvf6Azs5DEd13RrVezWxSh45IUe7Ia5vvvSZl+0Ld4//lEg6tZjdlzDfPQR2O7r0rA+TWbh+I8ESIAESIAESKAm8KTiSzqqH7IqJ+qyQML6qGaxkhUbmFULi8ND0bD5Rel4LlheOGC2KBRrqY+yEElcUMzoAid9aGzcnBSU6FsKr/BsLmsmaLz48uvd9G8lXsItyFDw7Lo1ZxgxG6bZVTYP+sewel+PVxTB+oG3mIkzj+dOEiABEiABEvhdAo8XX69kVxUQqnMUHHn1pRpwkwRIgARIgARIgATeT+Crii/M9Jj1Va8wez9nakACJEACJEACJEACnsBXFV/yXKpwi0+vVZLbjrj1t9+So39JgARIgARIgARI4BMJfFfxJQTl24RL+DYlFrfLs6nkG5DWSqtPhE6dSIAESIAESIAEfpfA9xVfv+srWk4CJEACJEACJPAPCLD4+gdOpAkkQAIkQAIkQALfQ4DF1/f4ipqSAAmQAAmQAAn8AwJ/+bGB2ywP0yYAAAAASUVORK5CYII=)"
      ]
    },
    {
      "cell_type": "code",
      "metadata": {
        "id": "16L8t3B7faIo",
        "colab_type": "code",
        "colab": {}
      },
      "source": [
        "t=torch.tensor(dd)"
      ],
      "execution_count": 0,
      "outputs": []
    },
    {
      "cell_type": "code",
      "metadata": {
        "id": "yCW-R61OffCn",
        "colab_type": "code",
        "colab": {
          "base_uri": "https://localhost:8080/",
          "height": 69
        },
        "outputId": "b1388a53-94fc-4764-e9be-eb62a9e8321b"
      },
      "source": [
        "t"
      ],
      "execution_count": 9,
      "outputs": [
        {
          "output_type": "execute_result",
          "data": {
            "text/plain": [
              "tensor([[1, 2, 3],\n",
              "        [4, 5, 6],\n",
              "        [7, 8, 9]])"
            ]
          },
          "metadata": {
            "tags": []
          },
          "execution_count": 9
        }
      ]
    },
    {
      "cell_type": "code",
      "metadata": {
        "id": "lT1scVPDfg15",
        "colab_type": "code",
        "colab": {
          "base_uri": "https://localhost:8080/",
          "height": 35
        },
        "outputId": "7bf84969-43b5-41ce-fe9c-656ae5d49f8a"
      },
      "source": [
        "type(t)"
      ],
      "execution_count": 10,
      "outputs": [
        {
          "output_type": "execute_result",
          "data": {
            "text/plain": [
              "torch.Tensor"
            ]
          },
          "metadata": {
            "tags": []
          },
          "execution_count": 10
        }
      ]
    },
    {
      "cell_type": "markdown",
      "metadata": {
        "id": "2WryZF2Ag0ur",
        "colab_type": "text"
      },
      "source": [
        "Shape determines axis, ranks<br /> CNN shape has 4 values [B,C,H,W]\n",
        "<br />to represent two dimension in an image that is height and width\n",
        "<br /> third value from right is color channel <br /> first one represents batch size of the images\n",
        "<br />suppose CNN shape we had [3,1,28,28] <br />\n",
        "that is each image has single color channel and has batchsize of 3 that is three number of batches\n",
        "<br /> by 28,28 dimesions\n",
        "<br /> after passing through CNN the height and wdth changes <br /> we call color channels at output as feature maps using input color channels."
      ]
    },
    {
      "cell_type": "code",
      "metadata": {
        "id": "0pGx5o7BfjDQ",
        "colab_type": "code",
        "colab": {}
      },
      "source": [
        ""
      ],
      "execution_count": 0,
      "outputs": []
    }
  ]
}