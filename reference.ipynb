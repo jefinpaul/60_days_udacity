{
 "cells": [
  {
   "cell_type": "code",
   "execution_count": 3,
   "metadata": {},
   "outputs": [],
   "source": [
    "import numpy as np\n",
    "import matplotlib.pyplot as plt\n",
    "import pandas as pd"
   ]
  },
  {
   "cell_type": "code",
   "execution_count": 6,
   "metadata": {},
   "outputs": [],
   "source": [
    "#Just for reference\n",
    "\n",
    "#  sigmoid function\n",
    "#       def sigmoid(x):\n",
    "#         return 1/(1+np.exp(-x))\n",
    "# ouput prediction formula\n",
    "#  def output_formula(features,weights,bias):\n",
    "#         return sigmoid(np.dot(features,weights)+bias)\n",
    "# Error formula\n",
    "#  def error_formula(y,output):\n",
    "#         return -y*np.log(output) - (1-y)*1-np.log(output)\n",
    "# Gradient descent\n",
    "#  def update_weights(x,y,weights,bias,learnrate):\n",
    "#         output=output_formula(x,weights,bias)\n",
    "#         ouput1=y-output\n",
    "#         weight+=learnrate*output1*x\n",
    "#         bias+=learnrate*output1\n",
    "#         return weights,bias\n",
    "        \n",
    "    "
   ]
  },
  {
   "cell_type": "code",
   "execution_count": 11,
   "metadata": {},
   "outputs": [],
   "source": []
  },
  {
   "cell_type": "code",
   "execution_count": null,
   "metadata": {},
   "outputs": [],
   "source": []
  }
 ],
 "metadata": {
  "kernelspec": {
   "display_name": "Python 3",
   "language": "python",
   "name": "python3"
  },
  "language_info": {
   "codemirror_mode": {
    "name": "ipython",
    "version": 3
   },
   "file_extension": ".py",
   "mimetype": "text/x-python",
   "name": "python",
   "nbconvert_exporter": "python",
   "pygments_lexer": "ipython3",
   "version": "3.7.4"
  }
 },
 "nbformat": 4,
 "nbformat_minor": 2
}
