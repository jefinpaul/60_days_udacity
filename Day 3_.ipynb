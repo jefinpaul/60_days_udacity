{
 "cells": [
  {
   "cell_type": "code",
   "execution_count": 1,
   "metadata": {},
   "outputs": [],
   "source": [
    "%matplotlib inline\n",
    "%config InlineBackend.figure_format = 'retina'\n",
    "\n",
    "import numpy as np\n",
    "import torch\n",
    "\n",
    "import helper\n",
    "import matplotlib.pyplot as plt"
   ]
  },
  {
   "cell_type": "code",
   "execution_count": 2,
   "metadata": {},
   "outputs": [],
   "source": [
    "from torchvision import datasets, transforms\n",
    "# Define a transform to normalize the data\n",
    "transform = transforms.Compose([transforms.ToTensor(),\n",
    "                              transforms.Normalize((0.5,), (0.5,)),\n",
    "                              ])\n",
    "\n",
    "# Download and load the training data\n",
    "trainset = datasets.MNIST('~/.pytorch/MNIST_data/', download=True, train=True, transform=transform)\n",
    "trainloader = torch.utils.data.DataLoader(trainset, batch_size=64, shuffle=True)\n"
   ]
  },
  {
   "cell_type": "code",
   "execution_count": 5,
   "metadata": {},
   "outputs": [
    {
     "name": "stdout",
     "output_type": "stream",
     "text": [
      "<class 'torch.Tensor'>\n",
      "torch.Size([64, 1, 28, 28])\n",
      "torch.Size([64])\n"
     ]
    }
   ],
   "source": [
    "#images is just a tensor with size (64, 1, 28, 28). So, 64 images per batch, 1 color channel, and 28x28 images\n",
    "#batch size is the number of images\n",
    "#shuffle=true tells to shuffle everytime when goes through data loader again\n",
    "for image, label in trainloader:\n",
    "    dataiter = iter(trainloader)\n",
    "images, labels = dataiter.next()\n",
    "print(type(images))\n",
    "print(images.shape)\n",
    "print(labels.shape)"
   ]
  },
  {
   "cell_type": "code",
   "execution_count": 6,
   "metadata": {},
   "outputs": [
    {
     "data": {
      "image/png": "[encoded data removed]",
      "text/plain": [
       "<Figure size 432x288 with 1 Axes>"
      ]
     },
     "metadata": {
      "image/png": {
       "height": 248,
       "width": 251
      },
      "needs_background": "light"
     },
     "output_type": "display_data"
    }
   ],
   "source": [
    "plt.imshow(images[1].numpy().squeeze(), cmap='Greys_r');"
   ]
  },
  {
   "cell_type": "code",
   "execution_count": 11,
   "metadata": {},
   "outputs": [
    {
     "name": "stdout",
     "output_type": "stream",
     "text": [
      "tensor([[-5.9690e+00,  5.5608e+00, -2.4082e+00,  8.5888e+00,  1.6819e+00,\n",
      "         -1.7040e+00,  2.2171e-01, -5.3705e+00,  1.7915e+01,  1.0296e+01],\n",
      "        [-1.5022e+01, -4.3541e+00, -3.8103e+00,  1.2520e+01,  3.1127e+00,\n",
      "         -2.3693e+00,  1.2240e+00, -4.9845e+00,  1.1603e+01, -3.3307e+00],\n",
      "        [-3.5245e+00,  1.0556e+00,  2.5071e+00,  1.2237e+01,  8.8085e+00,\n",
      "         -7.1710e+00,  6.0240e-01, -8.5965e+00,  1.3877e+01,  9.8978e+00],\n",
      "        [-8.9069e+00, -1.6459e+00,  7.2186e+00,  4.5100e+00,  1.2149e+00,\n",
      "         -7.9496e+00, -5.0545e+00, -1.3589e+01,  2.2842e+01, -2.2368e+00],\n",
      "        [-1.4391e+01,  8.2502e+00, -6.8092e-01,  8.9320e+00,  2.4472e+00,\n",
      "         -5.0930e+00, -6.3231e+00, -5.0543e+00,  1.9167e+01,  7.7292e+00],\n",
      "        [-1.2262e+01,  9.3848e+00, -1.2024e+00,  8.4383e+00, -5.3277e+00,\n",
      "         -9.7237e-01, -6.4985e+00, -1.1681e+01,  1.5550e+01,  3.1091e+00],\n",
      "        [-1.3051e+00,  1.3070e+00,  7.1035e+00,  1.3422e+01, -6.4791e+00,\n",
      "         -1.5128e+01, -1.3620e+01, -7.9742e+00,  1.8578e+01,  1.1588e+01],\n",
      "        [-5.3108e+00, -2.8899e+00, -5.2375e-01,  1.7177e+01,  2.3595e+00,\n",
      "         -5.5027e+00, -8.1276e+00, -1.4075e+00,  2.4561e+01, -3.4498e+00],\n",
      "        [ 3.0879e+00,  1.3002e+01,  1.4125e+01,  6.3692e+00, -2.0229e+00,\n",
      "         -1.6698e+00, -1.7545e+01, -1.3267e+01,  2.1052e+01,  4.3258e+00],\n",
      "        [-7.6915e+00, -2.8162e+00,  1.7260e+00,  1.4505e+01,  1.9302e-01,\n",
      "         -8.6149e+00, -3.0007e+00, -2.5477e+00,  2.1372e+01,  1.3005e+00],\n",
      "        [-1.0015e+01,  7.4110e+00,  8.6915e+00,  8.6790e+00,  3.7437e+00,\n",
      "         -8.9165e-01, -2.0134e+00, -8.8204e+00,  1.5600e+01,  7.4638e+00],\n",
      "        [-5.9981e+00, -2.6556e+00, -3.3783e+00,  1.8549e+01,  5.8543e+00,\n",
      "         -6.2711e+00, -5.8159e+00, -2.6439e+00,  1.7201e+01,  2.9137e+00],\n",
      "        [ 6.2114e-01,  6.1996e-01,  9.6980e+00,  1.5875e+01, -3.4446e+00,\n",
      "         -1.2368e+01, -3.3430e+00,  9.7827e-01,  1.2382e+01,  2.9157e+00],\n",
      "        [-4.2398e-01, -3.1816e+00,  2.2426e+00,  1.7235e+01,  5.4901e+00,\n",
      "         -7.4166e+00, -7.7557e+00,  1.2226e+00,  2.2629e+01,  4.7646e+00],\n",
      "        [-8.0997e+00, -9.6665e-01,  6.8958e+00,  2.0331e+01, -4.9616e+00,\n",
      "         -1.6028e+01, -9.4576e+00, -1.0837e+01,  8.8471e+00,  6.3389e+00],\n",
      "        [-8.2720e+00, -2.5029e-01, -3.6716e+00,  1.1547e+01, -3.1133e+00,\n",
      "         -8.5766e+00, -6.5393e+00, -7.6979e-01,  1.7674e+01,  3.8345e+00],\n",
      "        [-1.1960e+01,  2.3819e+00,  6.8551e+00,  1.1979e+01,  1.1459e+01,\n",
      "         -8.9986e+00, -3.8661e+00,  4.7387e-02,  2.0444e+01,  4.0254e+00],\n",
      "        [-4.2740e+00,  1.0883e+00,  6.6934e+00,  2.0985e+01,  5.5352e-01,\n",
      "         -8.5704e+00, -3.2912e+00, -8.0458e+00,  1.5141e+01,  3.7077e+00],\n",
      "        [-2.5674e-01,  8.2606e-01, -9.7355e-01,  1.2557e+01,  4.8187e+00,\n",
      "         -1.0870e+01, -1.1893e+01, -3.3117e+00,  2.1302e+01,  7.0380e+00],\n",
      "        [-1.2901e+01, -3.3418e+00, -5.7210e+00,  1.6630e+01,  2.1137e+00,\n",
      "         -5.2418e-01, -4.6428e+00, -4.9782e+00,  1.6486e+01,  3.8514e+00],\n",
      "        [-2.6669e+00, -9.2444e+00,  1.7605e+00,  1.5244e+01,  5.0554e-01,\n",
      "         -1.0395e+01, -3.9209e+00, -5.1789e+00,  1.7577e+01,  6.7011e+00],\n",
      "        [-9.7361e+00, -2.0776e+00, -6.2218e+00,  1.2656e+01,  5.1755e+00,\n",
      "         -1.5966e+00, -5.8627e+00, -2.9798e+00,  2.0153e+01,  4.8671e-01],\n",
      "        [-8.1240e+00, -3.0114e+00, -3.3928e+00,  1.2261e+01,  4.7792e+00,\n",
      "         -2.1438e+00, -5.1127e+00, -6.3191e+00,  1.7385e+01, -7.6946e-01],\n",
      "        [-4.8197e+00, -5.5174e-02,  3.5145e+00,  1.3974e+01, -8.6123e+00,\n",
      "         -6.4963e+00, -2.1858e+00, -1.0621e+01,  2.3473e+01,  1.5108e+01],\n",
      "        [-2.4428e+00,  1.0714e+00,  7.7636e+00,  7.3522e+00,  5.3798e-01,\n",
      "         -5.3641e+00,  6.1492e+00,  1.4103e+00,  1.6747e+01,  4.5275e+00],\n",
      "        [-2.5456e+00,  3.6564e+00, -4.5935e+00,  1.2925e+01,  1.2905e+00,\n",
      "         -8.6200e+00, -4.4730e-01, -2.2677e+00,  1.5790e+01,  5.1451e+00],\n",
      "        [-5.9991e+00,  3.1134e+00,  2.8946e+00,  9.4702e+00, -1.8404e+00,\n",
      "         -1.1237e+00, -8.9125e+00, -2.0518e+00,  1.9885e+01,  4.7285e+00],\n",
      "        [-4.3680e+00,  7.3959e+00,  7.9048e+00,  1.5107e+01,  1.8896e+00,\n",
      "         -9.8782e+00, -1.8480e-01, -6.1048e+00,  2.9900e+01,  7.5591e+00],\n",
      "        [-3.9038e+00,  2.8557e+00,  7.9577e+00,  1.9756e+01, -1.8852e+00,\n",
      "         -1.5681e+01, -9.0089e+00,  2.7325e-01,  2.5148e+01,  9.5155e+00],\n",
      "        [-6.5524e+00,  3.3596e+00,  3.8284e+00,  8.6415e+00, -3.3313e+00,\n",
      "          5.9030e-01, -1.3983e+00,  5.5191e+00,  9.0138e+00,  7.2619e+00],\n",
      "        [-1.2685e+01,  6.5625e+00,  4.8346e+00,  1.3984e+01, -8.4150e+00,\n",
      "         -3.1017e+00, -7.4810e-01,  2.8537e-01,  1.8197e+01,  1.2160e+01],\n",
      "        [-3.4643e+00, -2.9069e+00,  5.6032e+00,  1.0830e+01, -3.4219e+00,\n",
      "         -1.1250e+01,  1.4087e+00,  3.4006e+00,  9.6470e+00,  4.5716e+00],\n",
      "        [-1.7510e+01,  5.2552e+00, -2.1363e+00,  7.1892e+00,  3.9114e-01,\n",
      "         -4.1732e+00,  2.7538e+00,  4.8471e+00,  2.7185e+01,  6.9830e+00],\n",
      "        [-8.6184e+00,  1.1900e+00, -1.9786e-01,  2.3589e+00,  5.8841e+00,\n",
      "         -8.7301e-01, -3.5384e-01, -3.8244e+00,  1.6691e+01, -5.0017e+00],\n",
      "        [-2.0775e+00, -3.9302e+00,  1.4847e+00,  1.7221e+01,  4.7349e+00,\n",
      "         -1.4873e+01, -1.3210e+01, -9.1695e-02,  1.9598e+01, -2.3022e+00],\n",
      "        [ 5.1591e+00, -7.7427e-01,  4.0530e-01,  1.8439e+01,  6.9144e+00,\n",
      "         -7.2846e+00, -1.1621e+01, -3.6227e+00,  2.5231e+01,  1.7578e+00],\n",
      "        [-1.3494e+01,  1.0630e+01,  4.6141e+00,  1.6740e+01,  6.4896e+00,\n",
      "         -5.7561e+00, -1.3896e+01, -2.9621e+00,  2.5502e+01,  5.2686e+00],\n",
      "        [-4.7370e+00, -1.0910e+01,  2.0875e+00,  1.6720e+01,  7.3311e+00,\n",
      "         -4.8866e+00, -4.5156e+00, -3.2470e+00,  1.4043e+01,  1.5038e+00],\n",
      "        [-1.0310e+01, -7.3072e+00,  3.7849e+00,  4.0325e-01,  5.1948e+00,\n",
      "         -2.4224e+00,  4.7166e+00, -3.5860e+00,  1.7959e+01,  1.3353e+00],\n",
      "        [-8.9903e+00, -1.0396e+01,  5.2241e-01,  9.6814e+00, -8.9762e+00,\n",
      "         -8.1893e+00, -1.1394e+01, -3.6577e+00,  1.3763e+01, -5.4136e+00],\n",
      "        [-2.3321e+00,  2.2961e+00,  1.1331e+01,  7.6379e+00, -8.7201e-01,\n",
      "         -1.0573e+01, -1.5113e+00, -1.1060e+01,  1.9881e+01,  8.0381e+00],\n",
      "        [-9.3429e+00,  1.4494e+00,  2.3225e+00,  1.2792e+01, -1.4943e+00,\n",
      "         -5.5922e+00, -3.2086e+00, -3.5113e+00,  1.9035e+01,  3.8239e-01],\n",
      "        [-1.3527e+01, -2.8234e+00,  3.7081e-01,  1.1627e+01, -2.8809e+00,\n",
      "         -6.0246e+00, -5.8314e+00, -2.7945e+00,  1.0742e+01,  7.1583e+00],\n",
      "        [-7.8941e+00,  7.4664e-01,  8.3732e-01,  7.2574e+00,  6.5045e+00,\n",
      "         -5.0751e+00, -4.1015e+00,  4.2102e+00,  2.2472e+01,  1.2408e+01],\n",
      "        [-3.8650e+00, -5.2902e+00, -2.5493e+00,  1.1740e+01, -6.0426e+00,\n",
      "          2.3345e+00, -3.6397e+00, -4.7200e+00,  6.3325e+00, -3.1021e-01],\n",
      "        [-1.2365e+01,  1.1240e+00, -9.6815e-01,  2.3840e+01,  3.2362e-02,\n",
      "         -1.0965e+01, -3.0726e+00, -7.0010e+00,  1.6361e+01,  4.7284e+00],\n",
      "        [-8.6706e+00,  5.0795e+00,  4.8603e+00,  1.0643e+01,  1.1034e+01,\n",
      "          2.0468e+00, -6.9354e+00,  3.9976e+00,  1.6133e+01,  2.1945e+00],\n",
      "        [-1.0235e+01,  1.6395e+00, -4.1660e+00,  8.5645e+00,  6.1922e+00,\n",
      "         -6.3412e+00,  5.0878e-01, -7.9976e+00,  1.7080e+01, -4.2599e-01],\n",
      "        [-3.3377e+00,  1.0421e+00,  1.1679e+01,  7.1537e+00, -5.0330e+00,\n",
      "         -4.0886e+00,  6.4033e-01, -6.6382e+00,  6.4620e+00,  5.4005e-01],\n",
      "        [-1.4989e+01,  7.9080e+00,  2.9027e+00,  8.7850e+00,  2.3609e+00,\n",
      "          5.9553e+00,  2.1719e+00, -1.2288e+00,  1.3623e+01,  7.6827e+00],\n",
      "        [ 2.3784e+00,  2.2820e+00,  1.0234e+00,  1.2366e+01, -1.1373e+01,\n",
      "         -8.9638e+00, -1.3890e+01, -6.4815e+00,  2.1023e+01,  4.7169e+00],\n",
      "        [ 2.0531e+00, -4.5267e+00,  3.2255e+00,  7.3933e+00,  5.8885e+00,\n",
      "         -3.9871e+00,  7.4789e+00, -4.4682e+00,  1.1017e+01,  1.2892e+00],\n",
      "        [-1.1282e+00, -3.7374e-01,  7.3888e+00,  1.6374e+01,  1.1074e+01,\n",
      "         -8.7850e+00, -1.0072e+01, -3.1731e+00,  2.0060e+01,  5.6990e+00],\n",
      "        [-6.8112e+00, -3.8439e+00,  4.7053e+00,  2.1801e+01,  3.1349e+00,\n",
      "         -7.4577e+00, -1.3656e+01, -6.4967e+00,  1.6142e+01,  4.3829e+00],\n",
      "        [-1.5735e+01,  1.5661e+01, -1.5694e+00,  8.4056e+00,  9.1447e+00,\n",
      "         -1.1651e+00, -1.3391e+00, -8.8416e-01,  3.0232e+01,  1.1083e+01],\n",
      "        [-1.2035e+01,  8.2617e+00,  6.8805e-01,  3.6269e+00,  2.0316e-01,\n",
      "         -1.4321e-02, -1.6531e+00, -1.1771e+00,  1.4407e+01, -2.5120e-01],\n",
      "        [-3.4281e+00,  3.4739e+00,  3.4989e+00,  1.2667e+01, -1.0685e+01,\n",
      "          3.1069e+00, -8.8985e+00, -1.6672e+01,  3.0575e+01,  5.9178e+00],\n",
      "        [-4.1182e+00, -1.0057e+00, -2.7695e+00,  9.0953e+00, -4.9856e+00,\n",
      "         -1.1945e+01,  9.9154e+00,  1.8281e+00,  1.5205e+01,  6.9955e+00],\n",
      "        [-5.8747e+00,  3.4227e-01,  1.1060e+01,  7.4046e+00, -4.6075e+00,\n",
      "         -7.6214e+00, -5.0173e+00,  6.3716e-01,  1.1088e+01,  5.9457e-01],\n",
      "        [-3.1583e+00, -5.2029e+00,  8.6019e+00, -4.5157e-01, -1.7966e+00,\n",
      "          1.1557e+00,  1.0788e+01, -2.7714e+00,  1.8763e+01,  4.8633e+00],\n",
      "        [-1.2998e+01,  3.5543e+00,  1.2220e+01,  1.5704e+01,  2.8172e+00,\n",
      "         -5.7280e+00, -1.6037e+00, -6.0754e+00,  1.1553e+01,  2.7029e+00],\n",
      "        [-7.8458e+00,  8.8196e-01, -3.7428e+00,  8.5547e+00,  1.9929e+00,\n",
      "         -5.7498e+00, -4.1675e+00, -2.5316e+00,  2.4443e+01, -1.7018e+00],\n",
      "        [-1.1370e+01, -1.1967e+00,  1.0249e+01,  5.0453e+00,  1.2604e+00,\n",
      "         -1.3028e+01, -6.0162e+00, -6.7582e+00,  1.5998e+01, -7.9018e-01],\n",
      "        [-9.0844e+00,  2.4028e+00,  8.2533e+00,  6.6563e+00, -1.1795e+00,\n",
      "         -9.0421e+00, -5.6335e-01, -2.5715e+00,  1.5921e+01,  2.9399e+00]])\n"
     ]
    }
   ],
   "source": [
    "# we create fully connected dense networks, input to each layer must be 1D\n",
    "# here input is 28x28 2D vectors which needed to be converted into 1D\n",
    "#converting from (64,1,28,28) to (64,1,784)\n",
    "#now we need 10 output for each digits\n",
    "\n",
    "def activation(x):\n",
    "    return 1/(1+torch.exp(-x))\n",
    "\n",
    "# Flatten the input images\n",
    "#images.shapes[0] gives number of batches, to flatten rest of the dimension we use -1\n",
    "#instead of 784 we can write -1\n",
    "inputs = images.view(images.shape[0], -1)\n",
    "\n",
    "# Create parameters\n",
    "w1 = torch.randn(784, 256)\n",
    "#256 bias terms\n",
    "b1 = torch.randn(256)\n",
    "\n",
    "w2 = torch.randn(256, 10)\n",
    "b2 = torch.randn(10)\n",
    "\n",
    "h = activation(torch.mm(inputs, w1) + b1)\n",
    "\n",
    "out = torch.mm(h, w2) + b2\n",
    "print(out)"
   ]
  },
  {
   "cell_type": "code",
   "execution_count": 12,
   "metadata": {},
   "outputs": [
    {
     "name": "stdout",
     "output_type": "stream",
     "text": [
      "torch.Size([64, 10])\n",
      "tensor([1.0000, 1.0000, 1.0000, 1.0000, 1.0000, 1.0000, 1.0000, 1.0000, 1.0000,\n",
      "        1.0000, 1.0000, 1.0000, 1.0000, 1.0000, 1.0000, 1.0000, 1.0000, 1.0000,\n",
      "        1.0000, 1.0000, 1.0000, 1.0000, 1.0000, 1.0000, 1.0000, 1.0000, 1.0000,\n",
      "        1.0000, 1.0000, 1.0000, 1.0000, 1.0000, 1.0000, 1.0000, 1.0000, 1.0000,\n",
      "        1.0000, 1.0000, 1.0000, 1.0000, 1.0000, 1.0000, 1.0000, 1.0000, 1.0000,\n",
      "        1.0000, 1.0000, 1.0000, 1.0000, 1.0000, 1.0000, 1.0000, 1.0000, 1.0000,\n",
      "        1.0000, 1.0000, 1.0000, 1.0000, 1.0000, 1.0000, 1.0000, 1.0000, 1.0000,\n",
      "        1.0000])\n"
     ]
    }
   ],
   "source": [
    "#softmax function squishes and normalizes such that value add up to 1\n",
    "def softmax(x):\n",
    "    return torch.exp(x)/torch.sum(torch.exp(x), dim=1).view(-1, 1)\n",
    "\n",
    "probabilities = softmax(out)\n",
    "\n",
    "print(probabilities.shape)\n",
    "\n",
    "print(probabilities.sum(dim=1))"
   ]
  },
  {
   "cell_type": "code",
   "execution_count": null,
   "metadata": {},
   "outputs": [],
   "source": []
  }
 ],
 "metadata": {
  "kernelspec": {
   "display_name": "Python 3",
   "language": "python",
   "name": "python3"
  },
  "language_info": {
   "codemirror_mode": {
    "name": "ipython",
    "version": 3
   },
   "file_extension": ".py",
   "mimetype": "text/x-python",
   "name": "python",
   "nbconvert_exporter": "python",
   "pygments_lexer": "ipython3",
   "version": "3.7.4"
  }
 },
 "nbformat": 4,
 "nbformat_minor": 2
}
