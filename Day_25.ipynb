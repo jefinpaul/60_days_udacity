{
  "nbformat": 4,
  "nbformat_minor": 0,
  "metadata": {
    "colab": {
      "name": "Day 25.ipynb",
      "provenance": []
    },
    "kernelspec": {
      "name": "python3",
      "display_name": "Python 3"
    },
    "accelerator": "GPU"
  },
  "cells": [
    {
      "cell_type": "code",
      "metadata": {
        "id": "8Q2pPQ2BXOUy",
        "colab_type": "code",
        "outputId": "590126ee-4772-4274-e73d-59f98ee7dde7",
        "colab": {
          "base_uri": "https://localhost:8080/",
          "height": 159
        }
      },
      "source": [
        "%matplotlib inline\n",
        "%config InlineBackend.figure_format= 'retina'\n",
        "import numpy as np\n",
        "import torch\n",
        "import helper\n",
        "import torch.utils.data\n",
        "import matplotlib.pyplot as plt\n",
        "!wget -c https://raw.githubusercontent.com/udacity/deep-learning-v2-pytorch/master/intro-to-pytorch/helper.py"
      ],
      "execution_count": 73,
      "outputs": [
        {
          "output_type": "stream",
          "text": [
            "--2020-01-25 18:15:56--  https://raw.githubusercontent.com/udacity/deep-learning-v2-pytorch/master/intro-to-pytorch/helper.py\n",
            "Resolving raw.githubusercontent.com (raw.githubusercontent.com)... 151.101.0.133, 151.101.64.133, 151.101.128.133, ...\n",
            "Connecting to raw.githubusercontent.com (raw.githubusercontent.com)|151.101.0.133|:443... connected.\n",
            "HTTP request sent, awaiting response... 416 Range Not Satisfiable\n",
            "\n",
            "    The file is already fully retrieved; nothing to do.\n",
            "\n"
          ],
          "name": "stdout"
        }
      ]
    },
    {
      "cell_type": "code",
      "metadata": {
        "id": "zjtouFRq_DoW",
        "colab_type": "code",
        "colab": {}
      },
      "source": [
        "from torchvision import datasets, transforms\n",
        "\n",
        "# Define a transform to normalize the data\n",
        "transform = transforms.Compose([transforms.ToTensor(),\n",
        "                              transforms.Normalize((0.5,), (0.5,)),\n",
        "                              ])\n",
        "# Download and load the training data\n",
        "trainset = datasets.MNIST('~/.pytorch/MNIST_data/', download=True, train=True, transform=transform)\n",
        "trainloader = torch.utils.data.DataLoader(trainset, batch_size=64, shuffle=True)"
      ],
      "execution_count": 0,
      "outputs": []
    },
    {
      "cell_type": "markdown",
      "metadata": {
        "id": "y-kwsa3ySaZ_",
        "colab_type": "text"
      },
      "source": [
        "\n",
        "\n",
        "1.   Using nn in pytorch\n",
        "2.   We create class named network\n",
        "3.   super().__init__() to make your call, which is concise and does not require you to reference the parent OR class names explicitly\n",
        "4.    Example of class in python: <br/>class Complex:\n",
        "<br/>     def __init__(self, realpart, imagpart):\n",
        "<br />self.r = realpart\n",
        "<br/> self.i = imagpart\n",
        "<br/> x = Complex(3.0, -4.5)\n",
        "<br />x.r, x.i\n",
        "<br/>(3.0, -4.5)\n",
        "5.    Forward function shows output from input tensors\n",
        "\n"
      ]
    },
    {
      "cell_type": "code",
      "metadata": {
        "id": "MqhPbd9cNHUS",
        "colab_type": "code",
        "colab": {}
      },
      "source": [
        "from torch import nn"
      ],
      "execution_count": 0,
      "outputs": []
    },
    {
      "cell_type": "code",
      "metadata": {
        "id": "1urbnqC7SpUp",
        "colab_type": "code",
        "colab": {}
      },
      "source": [
        "#torch.nn.functional you can define network concisely and clearly\n",
        "#element wise function is used, which is called as F\n",
        "import torch.nn.functional as F\n",
        "class Network(nn.Module):\n",
        "  def __init__(self):\n",
        "    super().__init__()\n",
        "    self.hidden = nn.Linear(784,256)\n",
        "    self.output = nn.Linear(256,10)\n",
        "\n",
        "  def forward(self, x):\n",
        "    x = F.sigmoid(self.hidden(x))\n",
        "    x = F.softmax(self.output(x),dim=1)\n",
        "    return x"
      ],
      "execution_count": 0,
      "outputs": []
    },
    {
      "cell_type": "markdown",
      "metadata": {
        "id": "E9Jv3ntJube_",
        "colab_type": "text"
      },
      "source": [
        "Create a network with 784 input units, a hidden layer with 128 units and a ReLU activation, then a hidden layer with 64 units and a ReLU activation, and finally an output layer with a softmax activation as shown above. You can use a ReLU activation with the nn.ReLU module or F.relu function."
      ]
    },
    {
      "cell_type": "code",
      "metadata": {
        "id": "wDhXl1oKuHZd",
        "colab_type": "code",
        "outputId": "15e572fc-5dd1-4262-9573-5debb1ffc0ac",
        "colab": {
          "base_uri": "https://localhost:8080/",
          "height": 104
        }
      },
      "source": [
        "#Solution\n",
        "class Network(nn.Module):\n",
        "  def __init__(self):\n",
        "    super().__init__()\n",
        "    self.hidden1 = nn.Linear(784,128)\n",
        "    self.hidden2 = nn.Linear(128,64)\n",
        "    self.output = nn.Linear(64,10)\n",
        "  def forward(self,x):\n",
        "    x = F.relu(self.hidden1(x))\n",
        "    x = F.relu(self.hidden2(x))\n",
        "    x = F.sigmoid(self.output(x),dim=1)\n",
        "    return x\n",
        "model = Network()\n",
        "model"
      ],
      "execution_count": 98,
      "outputs": [
        {
          "output_type": "execute_result",
          "data": {
            "text/plain": [
              "Network(\n",
              "  (hidden1): Linear(in_features=784, out_features=128, bias=True)\n",
              "  (hidden2): Linear(in_features=128, out_features=64, bias=True)\n",
              "  (output): Linear(in_features=64, out_features=10, bias=True)\n",
              ")"
            ]
          },
          "metadata": {
            "tags": []
          },
          "execution_count": 98
        }
      ]
    },
    {
      "cell_type": "code",
      "metadata": {
        "id": "pVDsl_itvk2Y",
        "colab_type": "code",
        "colab": {}
      },
      "source": [
        "# it is a good practice to use fc1, fc2 , fc3 instead of input, output, hiden"
      ],
      "execution_count": 0,
      "outputs": []
    },
    {
      "cell_type": "code",
      "metadata": {
        "id": "jyVcAOuQv4ui",
        "colab_type": "code",
        "outputId": "557613db-ad7a-4abc-df3b-44b5a740c9dc",
        "colab": {
          "base_uri": "https://localhost:8080/",
          "height": 104
        }
      },
      "source": [
        "class Network(nn.Module):\n",
        "  def __init__(self):\n",
        "    super().__init__()\n",
        "    self.fc1 = nn.Linear(784,128)\n",
        "    self.fc2 = nn.Linear(128,64)\n",
        "    self.fc3 = nn.Linear(64,10)\n",
        "  def forward(self, x):\n",
        "    x = F.relu(self.fc1(x))\n",
        "    x = F.relu(self.fc2(x))\n",
        "    x = F.softmax(self.fc3(x), dim=1)\n",
        "    return x\n",
        "model = Network()\n",
        "model"
      ],
      "execution_count": 100,
      "outputs": [
        {
          "output_type": "execute_result",
          "data": {
            "text/plain": [
              "Network(\n",
              "  (fc1): Linear(in_features=784, out_features=128, bias=True)\n",
              "  (fc2): Linear(in_features=128, out_features=64, bias=True)\n",
              "  (fc3): Linear(in_features=64, out_features=10, bias=True)\n",
              ")"
            ]
          },
          "metadata": {
            "tags": []
          },
          "execution_count": 100
        }
      ]
    },
    {
      "cell_type": "code",
      "metadata": {
        "id": "ILm2jwAc9Ndm",
        "colab_type": "code",
        "colab": {}
      },
      "source": [
        ""
      ],
      "execution_count": 0,
      "outputs": []
    },
    {
      "cell_type": "code",
      "metadata": {
        "id": "TOKbTEmjxMYr",
        "colab_type": "code",
        "outputId": "c72b1eb4-01c7-4670-b5b7-5ee578bae2b5",
        "colab": {
          "base_uri": "https://localhost:8080/",
          "height": 485
        }
      },
      "source": [
        "\n",
        "#initializing weights and biases\n",
        " \n",
        "print(model.fc1.weight)\n",
        "print(model.fc1.bias)"
      ],
      "execution_count": 101,
      "outputs": [
        {
          "output_type": "stream",
          "text": [
            "Parameter containing:\n",
            "tensor([[-0.0255, -0.0185,  0.0220,  ...,  0.0125,  0.0323, -0.0182],\n",
            "        [-0.0244,  0.0282,  0.0283,  ...,  0.0062, -0.0137,  0.0017],\n",
            "        [ 0.0321, -0.0154,  0.0050,  ...,  0.0332,  0.0274, -0.0162],\n",
            "        ...,\n",
            "        [ 0.0083, -0.0209, -0.0337,  ..., -0.0268, -0.0074, -0.0102],\n",
            "        [ 0.0060,  0.0229, -0.0131,  ..., -0.0122,  0.0035,  0.0062],\n",
            "        [-0.0086, -0.0327,  0.0107,  ..., -0.0244, -0.0304, -0.0030]],\n",
            "       requires_grad=True)\n",
            "Parameter containing:\n",
            "tensor([-0.0201,  0.0157,  0.0136,  0.0332,  0.0314,  0.0027, -0.0051,  0.0163,\n",
            "         0.0199, -0.0114,  0.0180,  0.0132,  0.0043,  0.0290, -0.0167, -0.0321,\n",
            "        -0.0289,  0.0310,  0.0164, -0.0076, -0.0185, -0.0284,  0.0066,  0.0033,\n",
            "         0.0340,  0.0032,  0.0130, -0.0274,  0.0189, -0.0098,  0.0117,  0.0132,\n",
            "        -0.0128,  0.0176,  0.0116, -0.0209, -0.0067, -0.0294,  0.0257, -0.0314,\n",
            "        -0.0209, -0.0155, -0.0106, -0.0004,  0.0108, -0.0323,  0.0316, -0.0220,\n",
            "         0.0077, -0.0209,  0.0161,  0.0078,  0.0347, -0.0048,  0.0189, -0.0009,\n",
            "         0.0251, -0.0072, -0.0192, -0.0099, -0.0271, -0.0149, -0.0130,  0.0193,\n",
            "        -0.0110,  0.0225,  0.0133, -0.0111,  0.0300,  0.0123,  0.0258, -0.0343,\n",
            "        -0.0094, -0.0278, -0.0102, -0.0254,  0.0166, -0.0165,  0.0208, -0.0313,\n",
            "         0.0048,  0.0239,  0.0177, -0.0201,  0.0131,  0.0185, -0.0323,  0.0277,\n",
            "         0.0035, -0.0255, -0.0084, -0.0335, -0.0090, -0.0107,  0.0355, -0.0253,\n",
            "        -0.0244,  0.0099, -0.0198,  0.0327,  0.0253,  0.0183,  0.0289, -0.0003,\n",
            "        -0.0080,  0.0126, -0.0162,  0.0192, -0.0295, -0.0083,  0.0264,  0.0059,\n",
            "         0.0108, -0.0324,  0.0120,  0.0068,  0.0121, -0.0212,  0.0251,  0.0107,\n",
            "         0.0306,  0.0356,  0.0014, -0.0120, -0.0072, -0.0344, -0.0215,  0.0089],\n",
            "       requires_grad=True)\n"
          ],
          "name": "stdout"
        }
      ]
    },
    {
      "cell_type": "code",
      "metadata": {
        "id": "cx_8lLKNxYVB",
        "colab_type": "code",
        "outputId": "b0055043-8876-494f-b093-1ec8fb663fba",
        "colab": {
          "base_uri": "https://localhost:8080/",
          "height": 141
        }
      },
      "source": [
        "#To set biases to all zeros\n",
        "model.fc1.bias.data.fill_(0)"
      ],
      "execution_count": 102,
      "outputs": [
        {
          "output_type": "execute_result",
          "data": {
            "text/plain": [
              "tensor([0., 0., 0., 0., 0., 0., 0., 0., 0., 0., 0., 0., 0., 0., 0., 0., 0., 0., 0., 0., 0., 0., 0., 0.,\n",
              "        0., 0., 0., 0., 0., 0., 0., 0., 0., 0., 0., 0., 0., 0., 0., 0., 0., 0., 0., 0., 0., 0., 0., 0.,\n",
              "        0., 0., 0., 0., 0., 0., 0., 0., 0., 0., 0., 0., 0., 0., 0., 0., 0., 0., 0., 0., 0., 0., 0., 0.,\n",
              "        0., 0., 0., 0., 0., 0., 0., 0., 0., 0., 0., 0., 0., 0., 0., 0., 0., 0., 0., 0., 0., 0., 0., 0.,\n",
              "        0., 0., 0., 0., 0., 0., 0., 0., 0., 0., 0., 0., 0., 0., 0., 0., 0., 0., 0., 0., 0., 0., 0., 0.,\n",
              "        0., 0., 0., 0., 0., 0., 0., 0.])"
            ]
          },
          "metadata": {
            "tags": []
          },
          "execution_count": 102
        }
      ]
    },
    {
      "cell_type": "code",
      "metadata": {
        "id": "-j5HtvZexnvy",
        "colab_type": "code",
        "outputId": "c2618d98-05a7-48b7-f073-c4e446578c71",
        "colab": {
          "base_uri": "https://localhost:8080/",
          "height": 139
        }
      },
      "source": [
        "#sample from random normal with standard deviation = 0.01\n",
        "model.fc1.weight.data.normal_(std=0.01)"
      ],
      "execution_count": 103,
      "outputs": [
        {
          "output_type": "execute_result",
          "data": {
            "text/plain": [
              "tensor([[-0.0046,  0.0166,  0.0005,  ..., -0.0042,  0.0100,  0.0069],\n",
              "        [-0.0029, -0.0137,  0.0062,  ...,  0.0121,  0.0119,  0.0149],\n",
              "        [ 0.0056, -0.0107,  0.0183,  ...,  0.0119,  0.0058, -0.0060],\n",
              "        ...,\n",
              "        [-0.0036, -0.0033,  0.0062,  ..., -0.0082, -0.0134, -0.0210],\n",
              "        [-0.0103, -0.0090,  0.0043,  ...,  0.0081,  0.0206,  0.0023],\n",
              "        [-0.0035,  0.0009, -0.0022,  ...,  0.0006, -0.0095,  0.0054]])"
            ]
          },
          "metadata": {
            "tags": []
          },
          "execution_count": 103
        }
      ]
    },
    {
      "cell_type": "code",
      "metadata": {
        "id": "HkiLnhDSx7fr",
        "colab_type": "code",
        "outputId": "5950397e-ffc3-495a-c7b2-f0f321aeebcd",
        "colab": {
          "base_uri": "https://localhost:8080/",
          "height": 252
        }
      },
      "source": [
        "dataiter = iter(trainloader)\n",
        "images, labels = dataiter.next()\n",
        "\n",
        "# Resize images into a 1D vector, new shape is (batch size, color channels, image pixels) \n",
        "images.resize_(64, 1, 784)\n",
        "# or images.resize_(images.shape[0], 1, 784) to automatically get batch size\n",
        "\n",
        "# Forward pass through the network\n",
        "img_idx = 0\n",
        "ps = model.forward(images[img_idx,:])\n",
        "\n",
        "img = images[img_idx]\n",
        "view_classify(img.view(1, 28, 28), ps)"
      ],
      "execution_count": 104,
      "outputs": [
        {
          "output_type": "display_data",
          "data": {
            "image/png": "[encoded data removed]",
            "text/plain": [
              "<Figure size 432x648 with 2 Axes>"
            ]
          },
          "metadata": {
            "tags": [],
            "image/png": {
              "width": 424,
              "height": 235
            }
          }
        }
      ]
    },
    {
      "cell_type": "code",
      "metadata": {
        "id": "dQGskGLxyj8l",
        "colab_type": "code",
        "colab": {
          "base_uri": "https://localhost:8080/",
          "height": 391
        },
        "outputId": "9a2b225d-5c84-4c37-9b3d-8ce958fa7048"
      },
      "source": [
        "#from above we get to know that its making no improvement since we are not prividng any error \n",
        "# or providing correction to it\n",
        "\n",
        "#before that using nn.sequential as well we can build networks\n",
        "input_size = 784\n",
        "hidden_sizes = [128, 64]\n",
        "output_size = 10\n",
        "model = nn.Sequential(nn.Linear(input_size, hidden_sizes[0]),\n",
        "                      nn.ReLU(),\n",
        "                      nn.Linear(hidden_sizes[0],hidden_sizes[1]),\n",
        "                      nn.ReLU(),\n",
        "                      nn.Linear(hidden_sizes[1], output_size),\n",
        "                      nn.Softmax(dim=1))\n",
        "print(model)\n",
        "images, labels = next(iter(trainloader))\n",
        "images.resize_(images.shape[0], 1, 784)\n",
        "ps = model.forward(images[0,:])\n",
        "view_classify(images[0].view(1, 28, 28), ps)"
      ],
      "execution_count": 109,
      "outputs": [
        {
          "output_type": "stream",
          "text": [
            "Sequential(\n",
            "  (0): Linear(in_features=784, out_features=128, bias=True)\n",
            "  (1): ReLU()\n",
            "  (2): Linear(in_features=128, out_features=64, bias=True)\n",
            "  (3): ReLU()\n",
            "  (4): Linear(in_features=64, out_features=10, bias=True)\n",
            "  (5): Softmax(dim=1)\n",
            ")\n"
          ],
          "name": "stdout"
        },
        {
          "output_type": "display_data",
          "data": {
            "image/png": "[encoded data removed]",
            "text/plain": [
              "<Figure size 432x648 with 2 Axes>"
            ]
          },
          "metadata": {
            "tags": [],
            "image/png": {
              "width": 424,
              "height": 235
            }
          }
        }
      ]
    },
    {
      "cell_type": "code",
      "metadata": {
        "id": "pCZuh4_8F82G",
        "colab_type": "code",
        "colab": {
          "base_uri": "https://localhost:8080/",
          "height": 191
        },
        "outputId": "9d3b6200-6107-49b5-f6ef-890ffe47f508"
      },
      "source": [
        "print(model[0])\n",
        "model[0].weight"
      ],
      "execution_count": 110,
      "outputs": [
        {
          "output_type": "stream",
          "text": [
            "Linear(in_features=784, out_features=128, bias=True)\n"
          ],
          "name": "stdout"
        },
        {
          "output_type": "execute_result",
          "data": {
            "text/plain": [
              "Parameter containing:\n",
              "tensor([[ 0.0046, -0.0201, -0.0018,  ..., -0.0158,  0.0279, -0.0202],\n",
              "        [-0.0138, -0.0275, -0.0151,  ...,  0.0016,  0.0114, -0.0337],\n",
              "        [ 0.0338,  0.0246,  0.0100,  ..., -0.0063, -0.0119,  0.0187],\n",
              "        ...,\n",
              "        [ 0.0273,  0.0043, -0.0258,  ..., -0.0034,  0.0045, -0.0134],\n",
              "        [ 0.0117,  0.0219,  0.0069,  ...,  0.0221, -0.0127, -0.0212],\n",
              "        [ 0.0194,  0.0238, -0.0090,  ..., -0.0095, -0.0039, -0.0096]],\n",
              "       requires_grad=True)"
            ]
          },
          "metadata": {
            "tags": []
          },
          "execution_count": 110
        }
      ]
    },
    {
      "cell_type": "code",
      "metadata": {
        "id": "PwG6vG4aG1hd",
        "colab_type": "code",
        "colab": {
          "base_uri": "https://localhost:8080/",
          "height": 156
        },
        "outputId": "a592bb15-949e-4626-e7e4-9877f1382b5b"
      },
      "source": [
        "# using orderdict\n",
        "from collections import OrderedDict\n",
        "model = nn.Sequential(OrderedDict([\n",
        "                      ('fc1', nn.Linear(input_size, hidden_sizes[0])),\n",
        "                      ('relu1', nn.ReLU()),\n",
        "                      ('fc2', nn.Linear(hidden_sizes[0], hidden_sizes[1])),\n",
        "                      ('relu2', nn.ReLU()),\n",
        "                      ('output', nn.Linear(hidden_sizes[1], output_size)),\n",
        "                      ('softmax', nn.Softmax(dim=1))]))\n",
        "model"
      ],
      "execution_count": 111,
      "outputs": [
        {
          "output_type": "execute_result",
          "data": {
            "text/plain": [
              "Sequential(\n",
              "  (fc1): Linear(in_features=784, out_features=128, bias=True)\n",
              "  (relu1): ReLU()\n",
              "  (fc2): Linear(in_features=128, out_features=64, bias=True)\n",
              "  (relu2): ReLU()\n",
              "  (output): Linear(in_features=64, out_features=10, bias=True)\n",
              "  (softmax): Softmax(dim=1)\n",
              ")"
            ]
          },
          "metadata": {
            "tags": []
          },
          "execution_count": 111
        }
      ]
    },
    {
      "cell_type": "code",
      "metadata": {
        "id": "AXKIYCSFHEKP",
        "colab_type": "code",
        "colab": {
          "base_uri": "https://localhost:8080/",
          "height": 52
        },
        "outputId": "518cfc82-271f-46bb-b1ed-fc633794f6b3"
      },
      "source": [
        "print(model[0])\n",
        "print(model.fc1)"
      ],
      "execution_count": 112,
      "outputs": [
        {
          "output_type": "stream",
          "text": [
            "Linear(in_features=784, out_features=128, bias=True)\n",
            "Linear(in_features=784, out_features=128, bias=True)\n"
          ],
          "name": "stdout"
        }
      ]
    },
    {
      "cell_type": "code",
      "metadata": {
        "id": "09YjJU2mHIYn",
        "colab_type": "code",
        "colab": {}
      },
      "source": [
        ""
      ],
      "execution_count": 0,
      "outputs": []
    }
  ]
}